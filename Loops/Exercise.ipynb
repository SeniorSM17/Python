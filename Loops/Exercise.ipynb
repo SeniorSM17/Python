{
 "cells": [
  {
   "cell_type": "markdown",
   "id": "cf8d2d8f",
   "metadata": {},
   "source": [
    "1.Display square and perfect square root of numbers from 48 to 82. using list Comprehension.\n",
    "2.Display square and perfect square root of numbers from 48 to 82. using dictionary Comprehension.\n",
    "3.if the square of number inside list is divisible by 2 print the num.(1st question's answer should be taken as a list)"
   ]
  },
  {
   "cell_type": "code",
   "execution_count": 3,
   "id": "6373cdc9",
   "metadata": {},
   "outputs": [
    {
     "name": "stdout",
     "output_type": "stream",
     "text": [
      "[(2304, 6.928), (2401, 7.0), (2500, 7.071), (2601, 7.141), (2704, 7.211), (2809, 7.28), (2916, 7.348), (3025, 7.416), (3136, 7.483), (3249, 7.55), (3364, 7.616), (3481, 7.681), (3600, 7.746), (3721, 7.81), (3844, 7.874), (3969, 7.937), (4096, 8.0), (4225, 8.062), (4356, 8.124), (4489, 8.185), (4624, 8.246), (4761, 8.307), (4900, 8.367), (5041, 8.426), (5184, 8.485), (5329, 8.544), (5476, 8.602), (5625, 8.66), (5776, 8.718), (5929, 8.775), (6084, 8.832), (6241, 8.888), (6400, 8.944), (6561, 9.0), (6724, 9.055)]\n"
     ]
    }
   ],
   "source": [
    "print([(i*i,round(i**0.5,3))for i in range(48,83)])"
   ]
  },
  {
   "cell_type": "code",
   "execution_count": 4,
   "id": "43663f8e",
   "metadata": {},
   "outputs": [
    {
     "name": "stdout",
     "output_type": "stream",
     "text": [
      "{48: (2304, 6.928), 49: (2401, 7.0), 50: (2500, 7.071), 51: (2601, 7.141), 52: (2704, 7.211), 53: (2809, 7.28), 54: (2916, 7.348), 55: (3025, 7.416), 56: (3136, 7.483), 57: (3249, 7.55), 58: (3364, 7.616), 59: (3481, 7.681), 60: (3600, 7.746), 61: (3721, 7.81), 62: (3844, 7.874), 63: (3969, 7.937), 64: (4096, 8.0), 65: (4225, 8.062), 66: (4356, 8.124), 67: (4489, 8.185), 68: (4624, 8.246), 69: (4761, 8.307), 70: (4900, 8.367), 71: (5041, 8.426), 72: (5184, 8.485), 73: (5329, 8.544), 74: (5476, 8.602), 75: (5625, 8.66), 76: (5776, 8.718), 77: (5929, 8.775), 78: (6084, 8.832), 79: (6241, 8.888), 80: (6400, 8.944), 81: (6561, 9.0), 82: (6724, 9.055)}\n"
     ]
    }
   ],
   "source": [
    "print({i:(i*i,round(i**0.5,3))for i in range(48,83)})"
   ]
  },
  {
   "cell_type": "code",
   "execution_count": 5,
   "id": "1f615e87",
   "metadata": {},
   "outputs": [
    {
     "name": "stdout",
     "output_type": "stream",
     "text": [
      "[2304, 2500, 2704, 2916, 3136, 3364, 3600, 3844, 4096, 4356, 4624, 4900, 5184, 5476, 5776, 6084, 6400, 6724]\n"
     ]
    }
   ],
   "source": [
    "ls=[i*i for i in range(48,83)]\n",
    "print([i for i in ls if i%2==0])"
   ]
  }
 ],
 "metadata": {
  "kernelspec": {
   "display_name": "Python 3 (ipykernel)",
   "language": "python",
   "name": "python3"
  },
  "language_info": {
   "codemirror_mode": {
    "name": "ipython",
    "version": 3
   },
   "file_extension": ".py",
   "mimetype": "text/x-python",
   "name": "python",
   "nbconvert_exporter": "python",
   "pygments_lexer": "ipython3",
   "version": "3.9.12"
  }
 },
 "nbformat": 4,
 "nbformat_minor": 5
}
