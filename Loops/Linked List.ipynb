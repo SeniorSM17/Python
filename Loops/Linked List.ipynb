{
 "cells": [
  {
   "cell_type": "markdown",
   "id": "3a96d844",
   "metadata": {},
   "source": [
    "# Linked List"
   ]
  },
  {
   "cell_type": "markdown",
   "id": "891c07e7",
   "metadata": {},
   "source": [
    "### Creation Of LL"
   ]
  },
  {
   "cell_type": "code",
   "execution_count": 18,
   "id": "a72a7cda",
   "metadata": {},
   "outputs": [],
   "source": [
    "class Node:\n",
    "    def __init__ (self,data):\n",
    "        self.data=data\n",
    "        self.next=None"
   ]
  },
  {
   "cell_type": "code",
   "execution_count": 26,
   "id": "da395cf4",
   "metadata": {},
   "outputs": [],
   "source": [
    "class LinkedList:\n",
    "    def __init__(self):\n",
    "        self.head=None\n",
    "    def printList(self):\n",
    "        temp=self.head\n",
    "        while(temp):\n",
    "            print(temp.data)\n",
    "            temp=temp.next"
   ]
  },
  {
   "cell_type": "code",
   "execution_count": 24,
   "id": "6925c018",
   "metadata": {},
   "outputs": [],
   "source": [
    "llist=LinkedList()\n",
    "llist.head=Node(4)\n",
    "second=Node(5)\n",
    "third=Node(6)\n",
    "fourth=Node(7)\n",
    "llist.head.next=second\n",
    "second.next=third\n",
    "third.next=fourth;\n"
   ]
  },
  {
   "cell_type": "code",
   "execution_count": 25,
   "id": "8791e1da",
   "metadata": {},
   "outputs": [
    {
     "name": "stdout",
     "output_type": "stream",
     "text": [
      "4\n",
      "5\n",
      "6\n",
      "7\n"
     ]
    }
   ],
   "source": [
    "llist.printLinst()"
   ]
  },
  {
   "cell_type": "code",
   "execution_count": 28,
   "id": "a1c042b8",
   "metadata": {},
   "outputs": [],
   "source": [
    "l1=LinkedList()\n",
    "l1.head=Node(\"Hello\")\n",
    "second=Node(\"World\")\n",
    "third=Node(\"Welcome to this word\")\n",
    "l1.head.next=second\n",
    "second.next=third"
   ]
  },
  {
   "cell_type": "markdown",
   "id": "8c5294f0",
   "metadata": {},
   "source": [
    "### Printing of LL"
   ]
  },
  {
   "cell_type": "code",
   "execution_count": 29,
   "id": "608225eb",
   "metadata": {},
   "outputs": [],
   "source": [
    "temp=l1.head"
   ]
  },
  {
   "cell_type": "code",
   "execution_count": 30,
   "id": "43ab3bbe",
   "metadata": {},
   "outputs": [
    {
     "name": "stdout",
     "output_type": "stream",
     "text": [
      "Hello\n",
      "World\n",
      "Welcome to this word\n"
     ]
    }
   ],
   "source": [
    "while temp:\n",
    "    print(temp.data)\n",
    "    temp=temp.next"
   ]
  },
  {
   "cell_type": "markdown",
   "id": "899e30ea",
   "metadata": {},
   "source": [
    "### INSERTION  "
   ]
  },
  {
   "cell_type": "markdown",
   "id": "36543724",
   "metadata": {},
   "source": [
    "#### At the front of the linked list "
   ]
  },
  {
   "cell_type": "markdown",
   "id": "f4b5d020",
   "metadata": {},
   "source": [
    "Following are the 4 steps to add a node at the front.\n",
    "\n",
    "1. Allocate the Node \n",
    "\n",
    "2. Put in the data\n",
    "\n",
    "3. Make next of new Node as head\n",
    "\n",
    "4. Move the head to point to new Node "
   ]
  },
  {
   "cell_type": "code",
   "execution_count": 31,
   "id": "9d7478e0",
   "metadata": {},
   "outputs": [],
   "source": [
    "class Node:\n",
    "    def __init__ (self,data):\n",
    "        self.data=data\n",
    "        self.next=None"
   ]
  },
  {
   "cell_type": "code",
   "execution_count": 34,
   "id": "15021f87",
   "metadata": {},
   "outputs": [],
   "source": [
    "class LinkedList:\n",
    "    def __init__(self):\n",
    "        self.head=None\n",
    "    def printList(self):\n",
    "        temp=self.head\n",
    "        while(temp):\n",
    "            print(temp.data)\n",
    "            temp=temp.next\n",
    "    def push(self,new_data):\n",
    "        new_node=Node(new_data)\n",
    "        new_node.next=self.head\n",
    "        self.head=new_node"
   ]
  },
  {
   "cell_type": "code",
   "execution_count": 35,
   "id": "647a07ae",
   "metadata": {},
   "outputs": [],
   "source": [
    "ll=LinkedList()\n",
    "ll.push(\"Hello Duck\")"
   ]
  },
  {
   "cell_type": "code",
   "execution_count": 41,
   "id": "f058477f",
   "metadata": {},
   "outputs": [],
   "source": [
    "temp=ll.head"
   ]
  },
  {
   "cell_type": "code",
   "execution_count": 38,
   "id": "0f3c807c",
   "metadata": {},
   "outputs": [
    {
     "name": "stdout",
     "output_type": "stream",
     "text": [
      "Hello Duck\n"
     ]
    }
   ],
   "source": [
    "print(temp.data)"
   ]
  },
  {
   "cell_type": "code",
   "execution_count": 39,
   "id": "b8c68fe6",
   "metadata": {},
   "outputs": [],
   "source": [
    "ll.push(\"Hello Dog\")"
   ]
  },
  {
   "cell_type": "code",
   "execution_count": 42,
   "id": "ac518272",
   "metadata": {},
   "outputs": [
    {
     "name": "stdout",
     "output_type": "stream",
     "text": [
      "Hello Dog\n",
      "Hello Duck\n"
     ]
    }
   ],
   "source": [
    "while temp:\n",
    "    print(temp.data)\n",
    "    temp=temp.next"
   ]
  },
  {
   "cell_type": "markdown",
   "id": "b6b14657",
   "metadata": {},
   "source": [
    "#### After a given node."
   ]
  },
  {
   "cell_type": "markdown",
   "id": "af99a4c8",
   "metadata": {},
   "source": [
    "Following are the 4 steps to add a After a given node.\n",
    "\n",
    "1. check if the given prev_node exists\n",
    "2. Create new node &\n",
    "3. Put in the data\n",
    "4. Make next of new Node as next of prev_node\n",
    "5. make next of prev_node as new_node"
   ]
  },
  {
   "cell_type": "code",
   "execution_count": 43,
   "id": "3be76930",
   "metadata": {},
   "outputs": [],
   "source": [
    "class Node:\n",
    "    def __init__ (self,data):\n",
    "        self.data=data\n",
    "        self.next=None"
   ]
  },
  {
   "cell_type": "code",
   "execution_count": 45,
   "id": "9641e183",
   "metadata": {},
   "outputs": [],
   "source": [
    "class LinkedList:\n",
    "    def __init__(self):\n",
    "        self.head=None\n",
    "    def printList(self):\n",
    "        temp=self.head\n",
    "        while(temp):\n",
    "            print(temp.data)\n",
    "            temp=temp.next\n",
    "    def push(self,new_data):\n",
    "        new_node=Node(new_data)\n",
    "        new_node.next=self.head\n",
    "        self.head=new_node\n",
    "    def insertAfter(self,prev_node,new_data):\n",
    "        if prev_node is None :\n",
    "            print(\"Node does not exits\")\n",
    "            return\n",
    "        new_node=Node(new_data)\n",
    "        new_node.next=prev_node.next\n",
    "        prev_node.next=new_node"
   ]
  },
  {
   "cell_type": "code",
   "execution_count": 48,
   "id": "3d3b00d0",
   "metadata": {},
   "outputs": [],
   "source": [
    "ll1=LinkedList()\n",
    "ll1.head=Node(12)\n",
    "second=Node(13)\n",
    "third=Node(11)\n",
    "fourth=Node(15)\n",
    "\n",
    "ll1.head.next=second\n",
    "second.next=third\n",
    "third.next=fourth; \n"
   ]
  },
  {
   "cell_type": "code",
   "execution_count": 59,
   "id": "a3016e56",
   "metadata": {},
   "outputs": [
    {
     "name": "stdout",
     "output_type": "stream",
     "text": [
      "11\n",
      "12\n",
      "14\n",
      "13\n",
      "14\n",
      "14\n",
      "14\n",
      "11\n",
      "15\n"
     ]
    }
   ],
   "source": [
    "ll1.printList()"
   ]
  },
  {
   "cell_type": "code",
   "execution_count": 58,
   "id": "3922c373",
   "metadata": {},
   "outputs": [],
   "source": [
    "ll1.insertAfter(ll1.head.next.next.next,14)\n",
    "ll1.push(11)"
   ]
  },
  {
   "cell_type": "code",
   "execution_count": null,
   "id": "022464ad",
   "metadata": {},
   "outputs": [],
   "source": []
  }
 ],
 "metadata": {
  "kernelspec": {
   "display_name": "Python 3 (ipykernel)",
   "language": "python",
   "name": "python3"
  },
  "language_info": {
   "codemirror_mode": {
    "name": "ipython",
    "version": 3
   },
   "file_extension": ".py",
   "mimetype": "text/x-python",
   "name": "python",
   "nbconvert_exporter": "python",
   "pygments_lexer": "ipython3",
   "version": "3.9.12"
  }
 },
 "nbformat": 4,
 "nbformat_minor": 5
}
