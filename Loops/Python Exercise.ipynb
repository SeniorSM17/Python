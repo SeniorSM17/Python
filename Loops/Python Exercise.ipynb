{
 "cells": [
  {
   "cell_type": "markdown",
   "id": "66bf355a",
   "metadata": {},
   "source": [
    "1. Write a program which will find all such numbers which are divisible by 7 but are not a multiple of 5,between 2000 and 3200 (both included). \n",
    "\n",
    "The numbers obtained should be printed in a comma-separated sequence on a single line. "
   ]
  },
  {
   "cell_type": "code",
   "execution_count": 1,
   "id": "829c1ea4",
   "metadata": {},
   "outputs": [
    {
     "name": "stdout",
     "output_type": "stream",
     "text": [
      "[2002, 2009, 2016, 2023, 2037, 2044, 2051, 2058, 2072, 2079, 2086, 2093, 2107, 2114, 2121, 2128, 2142, 2149, 2156, 2163, 2177, 2184, 2191, 2198, 2212, 2219, 2226, 2233, 2247, 2254, 2261, 2268, 2282, 2289, 2296, 2303, 2317, 2324, 2331, 2338, 2352, 2359, 2366, 2373, 2387, 2394, 2401, 2408, 2422, 2429, 2436, 2443, 2457, 2464, 2471, 2478, 2492, 2499, 2506, 2513, 2527, 2534, 2541, 2548, 2562, 2569, 2576, 2583, 2597, 2604, 2611, 2618, 2632, 2639, 2646, 2653, 2667, 2674, 2681, 2688, 2702, 2709, 2716, 2723, 2737, 2744, 2751, 2758, 2772, 2779, 2786, 2793, 2807, 2814, 2821, 2828, 2842, 2849, 2856, 2863, 2877, 2884, 2891, 2898, 2912, 2919, 2926, 2933, 2947, 2954, 2961, 2968, 2982, 2989, 2996, 3003, 3017, 3024, 3031, 3038, 3052, 3059, 3066, 3073, 3087, 3094, 3101, 3108, 3122, 3129, 3136, 3143, 3157, 3164, 3171, 3178, 3192, 3199]\n"
     ]
    }
   ],
   "source": [
    "print([i for i in range(2000,3201) if i %7==0 and i%5!=0])"
   ]
  },
  {
   "cell_type": "code",
   "execution_count": 45,
   "id": "1991d87f",
   "metadata": {},
   "outputs": [
    {
     "name": "stdout",
     "output_type": "stream",
     "text": [
      "2002,2009,2016,2023,2037,2044,2051,2058,2072,2079,2086,2093,2107,2114,2121,2128,2142,2149,2156,2163,2177,2184,2191,2198,2212,2219,2226,2233,2247,2254,2261,2268,2282,2289,2296,2303,2317,2324,2331,2338,2352,2359,2366,2373,2387,2394,2401,2408,2422,2429,2436,2443,2457,2464,2471,2478,2492,2499,2506,2513,2527,2534,2541,2548,2562,2569,2576,2583,2597,2604,2611,2618,2632,2639,2646,2653,2667,2674,2681,2688,2702,2709,2716,2723,2737,2744,2751,2758,2772,2779,2786,2793,2807,2814,2821,2828,2842,2849,2856,2863,2877,2884,2891,2898,2912,2919,2926,2933,2947,2954,2961,2968,2982,2989,2996,3003,3017,3024,3031,3038,3052,3059,3066,3073,3087,3094,3101,3108,3122,3129,3136,3143,3157,3164,3171,3178,3192,3199\n"
     ]
    }
   ],
   "source": [
    "ls=[]\n",
    "for i in range(2000,3201):\n",
    "    if i %7==0 and i%5!=0:\n",
    "        ls.append(i)\n",
    "print(*ls,sep=\",\")"
   ]
  },
  {
   "cell_type": "markdown",
   "id": "acfe8419",
   "metadata": {},
   "source": [
    "2. Write a program which can compute the factorial of a given numbers. \n",
    "\n",
    "The results should be printed in a comma-separated sequence on a single line. \n",
    "\n",
    "Suppose the following input is supplied to the program: \n",
    "\n",
    "8 \n",
    "\n",
    "Then, the output should be: \n",
    "\n",
    "40320 "
   ]
  },
  {
   "cell_type": "code",
   "execution_count": 5,
   "id": "a58feff2",
   "metadata": {},
   "outputs": [
    {
     "name": "stdout",
     "output_type": "stream",
     "text": [
      "Enter the number 8\n",
      "40320\n"
     ]
    }
   ],
   "source": [
    "fact=1\n",
    "for i in range(int(input(\"Enter the number\").strip()),0,-1):\n",
    "    fact*=i\n",
    "print(fact)"
   ]
  },
  {
   "cell_type": "markdown",
   "id": "2b38e518",
   "metadata": {},
   "source": [
    "3. With a given integral number n, write a program to generate a dictionary that contains (i, i*i) such that is an integral number between 1 and n (both included). and then the program should print the dictionary. \n",
    "\n",
    "Suppose the following input is supplied to the program: \n",
    "\n",
    "8 \n",
    "\n",
    "Then, the output should be: \n",
    "\n",
    "{1: 1, 2: 4, 3: 9, 4: 16, 5: 25, 6: 36, 7: 49, 8: 64} "
   ]
  },
  {
   "cell_type": "code",
   "execution_count": 9,
   "id": "48bbefdb",
   "metadata": {},
   "outputs": [
    {
     "name": "stdout",
     "output_type": "stream",
     "text": [
      "Enter the number 10\n",
      "{1: 1, 2: 4, 3: 9, 4: 16, 5: 25, 6: 36, 7: 49, 8: 64, 9: 81, 10: 100}\n"
     ]
    }
   ],
   "source": [
    "print({i:i*i for i in range(1,int(input(\"Enter the number\"))+1)})"
   ]
  },
  {
   "cell_type": "markdown",
   "id": "9ea54f61",
   "metadata": {},
   "source": [
    "4. Write a program which accepts a sequence of comma-separated numbers from console and generate a list and a tuple which contains every number. \n",
    "\n",
    "Suppose the following input is supplied to the program: \n",
    "\n",
    "34,67,55,33,12,98 \n",
    "\n",
    "Then, the output should be: \n",
    "\n",
    "['34', '67', '55', '33', '12', '98'] \n",
    "\n",
    "('34', '67', '55', '33', '12', '98') "
   ]
  },
  {
   "cell_type": "code",
   "execution_count": 11,
   "id": "15db2725",
   "metadata": {},
   "outputs": [
    {
     "name": "stdout",
     "output_type": "stream",
     "text": [
      "Enter the numbers34,67,55,33,12,98\n",
      "[34, 67, 55, 33, 12, 98] \n",
      " (34, 67, 55, 33, 12, 98)\n"
     ]
    }
   ],
   "source": [
    "ls=list(map(int,input(\"Enter the numbers\").split(\",\")))\n",
    "print(ls,\"\\n\",tuple(ls))"
   ]
  },
  {
   "cell_type": "markdown",
   "id": "75903923",
   "metadata": {},
   "source": [
    "5. Write a program that accepts a comma separated sequence of words as input and prints the words in a comma-separated sequence after sorting them alphabetically. \n",
    "\n",
    "Suppose the following input is supplied to the program: \n",
    "\n",
    "without,hello,bag,world \n",
    "\n",
    "Then, the output should be: \n",
    "\n",
    "bag,hello,without,world "
   ]
  },
  {
   "cell_type": "code",
   "execution_count": 12,
   "id": "5a6bdfe7",
   "metadata": {},
   "outputs": [
    {
     "name": "stdout",
     "output_type": "stream",
     "text": [
      "Enter the numberswithout,hello,bag,world\n",
      "['bag', 'hello', 'without', 'world']\n"
     ]
    }
   ],
   "source": [
    "print(sorted(list(map(str,input(\"Enter the numbers\").split(\",\")))))"
   ]
  },
  {
   "cell_type": "markdown",
   "id": "f84666e7",
   "metadata": {},
   "source": [
    "6. Write a program that accepts sequence of lines as input and prints the lines after making all characters in the sentence capitalized. \n",
    "\n",
    "Suppose the following input is supplied to the program: \n",
    "\n",
    "Hello world \n",
    "\n",
    "Practice makes perfect \n",
    "\n",
    "Then, the output should be: \n",
    "\n",
    "HELLO WORLD \n",
    "\n",
    "PRACTICE MAKES PERFECT "
   ]
  },
  {
   "cell_type": "code",
   "execution_count": 18,
   "id": "535635a7",
   "metadata": {},
   "outputs": [
    {
     "name": "stdout",
     "output_type": "stream",
     "text": [
      "Enter the number of line 2\n",
      "Hello world \n",
      "Practice makes perfect \n",
      "HELLO WORLD \n",
      "PRACTICE MAKES PERFECT \n"
     ]
    }
   ],
   "source": [
    "lines=int(input(\"Enter the number of line\"))\n",
    "ls=[]\n",
    "for i in range(0,lines):\n",
    "    line=input().upper()\n",
    "    ls.append(line)\n",
    "for i in ls:\n",
    "    print(i)"
   ]
  },
  {
   "cell_type": "markdown",
   "id": "5c5433aa",
   "metadata": {},
   "source": [
    "7. Write a program which accepts a sequence of comma separated 4 digit binary numbers as its input and then check whether they are divisible by 5 or not. The numbers that are divisible by 5 are to be printed in a comma separated sequence. \n",
    "\n",
    "Example: \n",
    "\n",
    "0100,0011,1010,1001 \n",
    "\n",
    "Then the output should be: \n",
    "\n",
    "1010 "
   ]
  },
  {
   "cell_type": "code",
   "execution_count": 21,
   "id": "b9924676",
   "metadata": {},
   "outputs": [
    {
     "name": "stdout",
     "output_type": "stream",
     "text": [
      "Enter the numbers0100,0011,1010,1001\n",
      "1010\n"
     ]
    }
   ],
   "source": [
    "ls=list(map(str,input(\"Enter the numbers\").split(\",\")))\n",
    "for i in ls:\n",
    "    if int(i,2)%5==0:\n",
    "        print(i)"
   ]
  },
  {
   "cell_type": "markdown",
   "id": "35a96e66",
   "metadata": {},
   "source": [
    "8. Write a program that accepts a sentence and calculate the number of upper case letters and lower case letters. \n",
    "\n",
    "Suppose the following input is supplied to the program: \n",
    "\n",
    "Hello world! \n",
    "\n",
    "Then, the output should be: \n",
    "\n",
    "UPPER CASE 1 \n",
    "\n",
    "LOWER CASE 9 "
   ]
  },
  {
   "cell_type": "code",
   "execution_count": 22,
   "id": "45dbe95b",
   "metadata": {},
   "outputs": [
    {
     "name": "stdout",
     "output_type": "stream",
     "text": [
      "Enter the string Hello world!\n",
      "UpperCase 1 \n",
      "LowerCase 9\n"
     ]
    }
   ],
   "source": [
    "upCount=0\n",
    "downCount=0\n",
    "for i in input(\"Enter the string \"):\n",
    "    if i.isupper():\n",
    "        upCount+=1\n",
    "    elif i.islower():\n",
    "        downCount+=1\n",
    "print(\"UpperCase {} \\nLowerCase {}\".format(upCount,downCount))"
   ]
  },
  {
   "cell_type": "markdown",
   "id": "6f6ec2b7",
   "metadata": {},
   "source": [
    "10. Write a program to compute the frequency of the words from the input. The output should output after sorting the key alphanumerically.  \n",
    "\n",
    "Suppose the following input is supplied to the program: \n",
    "\n",
    "New to Python or choosing between Python 2 and Python 3? Read Python 2 or Python 3. \n",
    "\n",
    "Then, the output should be: \n",
    "\n",
    "2:2 \n",
    "\n",
    "3.:1 \n",
    "\n",
    "3?:1 \n",
    "\n",
    "New:1 \n",
    "\n",
    "Python:5 \n",
    "\n",
    " \tRead:1 \n",
    "\n",
    "and:1 \n",
    "\n",
    "between:1 \n",
    "\n",
    "choosing:1 \n",
    "\n",
    "or:2 \n",
    "\n",
    "to:1 "
   ]
  },
  {
   "cell_type": "code",
   "execution_count": 24,
   "id": "d7038537",
   "metadata": {},
   "outputs": [
    {
     "name": "stdout",
     "output_type": "stream",
     "text": [
      "Enter the stringNew to Python or choosing between Python 2 and Python 3? Read Python 2 or Python 3\n",
      "New  :  1\n",
      "to  :  1\n",
      "Python  :  5\n",
      "or  :  2\n",
      "choosing  :  1\n",
      "between  :  1\n",
      "Python  :  5\n",
      "2  :  2\n",
      "and  :  1\n",
      "Python  :  5\n",
      "3?  :  1\n",
      "Read  :  1\n",
      "Python  :  5\n",
      "2  :  2\n",
      "or  :  2\n",
      "Python  :  5\n",
      "3  :  1\n"
     ]
    }
   ],
   "source": [
    "ls= list(map(str,input(\"Enter the string\").split()))\n",
    "for i in ls:\n",
    "    print(i,\" : \",ls.count(i))"
   ]
  },
  {
   "cell_type": "markdown",
   "id": "a3c3d508",
   "metadata": {},
   "source": [
    "10. Convert 2nd Part of String into Upper Case "
   ]
  },
  {
   "cell_type": "code",
   "execution_count": 33,
   "id": "bbba5913",
   "metadata": {},
   "outputs": [
    {
     "name": "stdout",
     "output_type": "stream",
     "text": [
      "Enter the stringHello World\n",
      "Hello WORLD\n"
     ]
    }
   ],
   "source": [
    "str1=input(\"Enter the string\")\n",
    "new_str=str1[:len(str1)//2]\n",
    "for i in range(len(str1)//2,len(str1)):\n",
    "    new_str+=str1[i].upper()\n",
    "print(new_str)"
   ]
  },
  {
   "cell_type": "markdown",
   "id": "28c83366",
   "metadata": {},
   "source": [
    "11. With a given tuple (1,2,3,4,5,6,7,8,9,10), write a program to print the first half values in one line and the last half values in one line.\\ "
   ]
  },
  {
   "cell_type": "code",
   "execution_count": 34,
   "id": "7a90a7ba",
   "metadata": {},
   "outputs": [
    {
     "name": "stdout",
     "output_type": "stream",
     "text": [
      "(1, 2, 3, 4, 5)\n",
      "(6, 7, 8, 9, 10)\n"
     ]
    }
   ],
   "source": [
    "tp=(1,2,3,4,5,6,7,8,9,10)\n",
    "\n",
    "tp1=tp[:5]\n",
    "\n",
    "tp2=tp[5:]\n",
    "\n",
    "print(tp1)\n",
    "\n",
    "print(tp2)"
   ]
  },
  {
   "cell_type": "code",
   "execution_count": null,
   "id": "f0084ca7",
   "metadata": {},
   "outputs": [],
   "source": []
  }
 ],
 "metadata": {
  "kernelspec": {
   "display_name": "Python 3 (ipykernel)",
   "language": "python",
   "name": "python3"
  },
  "language_info": {
   "codemirror_mode": {
    "name": "ipython",
    "version": 3
   },
   "file_extension": ".py",
   "mimetype": "text/x-python",
   "name": "python",
   "nbconvert_exporter": "python",
   "pygments_lexer": "ipython3",
   "version": "3.9.12"
  }
 },
 "nbformat": 4,
 "nbformat_minor": 5
}
