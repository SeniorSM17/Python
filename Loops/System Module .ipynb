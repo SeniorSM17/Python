{
 "cells": [
  {
   "cell_type": "markdown",
   "id": "c0e9648e",
   "metadata": {},
   "source": [
    "### 1. version\n",
    "\n",
    "It helps you understand the version of python being in use."
   ]
  },
  {
   "cell_type": "code",
   "execution_count": 2,
   "id": "58e72d39",
   "metadata": {},
   "outputs": [
    {
     "name": "stdout",
     "output_type": "stream",
     "text": [
      "3.9.12 (main, Apr  4 2022, 05:22:27) [MSC v.1916 64 bit (AMD64)]\n"
     ]
    }
   ],
   "source": [
    "import sys\n",
    "\n",
    "print(sys.version)"
   ]
  },
  {
   "cell_type": "markdown",
   "id": "fba473fe",
   "metadata": {},
   "source": [
    "### 2. executable\n",
    "It’s a string that tells you where your filesystem or your python interpreter exists."
   ]
  },
  {
   "cell_type": "code",
   "execution_count": 4,
   "id": "8c35cddb",
   "metadata": {},
   "outputs": [
    {
     "name": "stdout",
     "output_type": "stream",
     "text": [
      "C:\\ProgramData\\Anaconda3\\python.exe\n"
     ]
    }
   ],
   "source": [
    "import sys\n",
    "\n",
    "print(sys.executable)"
   ]
  },
  {
   "cell_type": "markdown",
   "id": "781bb365",
   "metadata": {},
   "source": [
    "### 3. sys.builtin_module_names\n",
    "This helps you understand which all are the built-in modules available in python.\n",
    "One need not to download these modules, and hence can directly be used environment after importing."
   ]
  },
  {
   "cell_type": "code",
   "execution_count": 5,
   "id": "cd5ff99d",
   "metadata": {},
   "outputs": [
    {
     "name": "stdout",
     "output_type": "stream",
     "text": [
      "('_abc', '_ast', '_bisect', '_blake2', '_codecs', '_codecs_cn', '_codecs_hk', '_codecs_iso2022', '_codecs_jp', '_codecs_kr', '_codecs_tw', '_collections', '_contextvars', '_csv', '_datetime', '_functools', '_heapq', '_imp', '_io', '_json', '_locale', '_lsprof', '_md5', '_multibytecodec', '_opcode', '_operator', '_peg_parser', '_pickle', '_random', '_sha1', '_sha256', '_sha3', '_sha512', '_signal', '_sre', '_stat', '_statistics', '_string', '_struct', '_symtable', '_thread', '_tracemalloc', '_warnings', '_weakref', '_winapi', '_xxsubinterpreters', 'array', 'atexit', 'audioop', 'binascii', 'builtins', 'cmath', 'errno', 'faulthandler', 'gc', 'itertools', 'marshal', 'math', 'mmap', 'msvcrt', 'nt', 'parser', 'sys', 'time', 'winreg', 'xxsubtype', 'zlib')\n"
     ]
    }
   ],
   "source": [
    "print(sys.builtin_module_names)"
   ]
  },
  {
   "cell_type": "markdown",
   "id": "36fc364e",
   "metadata": {},
   "source": [
    "### 4. sys.platform\n",
    "This helps you know about the platform. \n",
    "\n",
    "Everyone wants their program to run irrespective of the platform.\n",
    "\n",
    "And that’s where this command is mostly used."
   ]
  },
  {
   "cell_type": "code",
   "execution_count": 6,
   "id": "8c1a7cb0",
   "metadata": {
    "scrolled": true
   },
   "outputs": [
    {
     "name": "stdout",
     "output_type": "stream",
     "text": [
      "win32\n"
     ]
    }
   ],
   "source": [
    "print(sys.platform)"
   ]
  },
  {
   "cell_type": "markdown",
   "id": "4a5678b8",
   "metadata": {},
   "source": [
    "### 5. sys.exit\n",
    "In case of any exceptions in the program, there occurs the need of safe exit from the program. Sys.exit helps there."
   ]
  },
  {
   "cell_type": "code",
   "execution_count": 7,
   "id": "b83c665a",
   "metadata": {},
   "outputs": [],
   "source": [
    "def is_namevalid(name):\n",
    "    if any(i.isdigit() for i in name):\n",
    "        print(\"ERROR: Invalid feature set \")\n",
    "        sys.exit()\n",
    "        \n",
    "    else:\n",
    "        print(\"Correct name\")"
   ]
  },
  {
   "cell_type": "code",
   "execution_count": 8,
   "id": "60e535f2",
   "metadata": {},
   "outputs": [
    {
     "name": "stdout",
     "output_type": "stream",
     "text": [
      "Correct name\n"
     ]
    }
   ],
   "source": [
    "is_namevalid(\"Shubham\")"
   ]
  },
  {
   "cell_type": "code",
   "execution_count": 9,
   "id": "c37a4fa5",
   "metadata": {},
   "outputs": [
    {
     "name": "stdout",
     "output_type": "stream",
     "text": [
      "ERROR: Invalid feature set \n"
     ]
    },
    {
     "ename": "SystemExit",
     "evalue": "",
     "output_type": "error",
     "traceback": [
      "An exception has occurred, use %tb to see the full traceback.\n",
      "\u001b[1;31mSystemExit\u001b[0m\n"
     ]
    },
    {
     "name": "stderr",
     "output_type": "stream",
     "text": [
      "C:\\ProgramData\\Anaconda3\\lib\\site-packages\\IPython\\core\\interactiveshell.py:3377: UserWarning: To exit: use 'exit', 'quit', or Ctrl-D.\n",
      "  warn(\"To exit: use 'exit', 'quit', or Ctrl-D.\", stacklevel=1)\n"
     ]
    }
   ],
   "source": [
    "is_namevalid(\"Naga69\")"
   ]
  },
  {
   "cell_type": "markdown",
   "id": "eff0d9cb",
   "metadata": {},
   "source": [
    "### 6. sys.argv\n",
    "1. This refers to a list in python, which contains arguments(command line) passed to the script. \n",
    "2. If someone types len(sys.argv), it will fetch you the count of the number of arguments. \n",
    "3. Someone working with command line arguments, will use sys.argv. \n",
    "4. Sys.argv[0] refers to the name of script."
   ]
  },
  {
   "cell_type": "code",
   "execution_count": 10,
   "id": "4a4a5b64",
   "metadata": {},
   "outputs": [
    {
     "name": "stdout",
     "output_type": "stream",
     "text": [
      "C:\\ProgramData\\Anaconda3\\lib\\site-packages\\ipykernel_launcher.py\n"
     ]
    }
   ],
   "source": [
    "import sys\n",
    "print(sys.argv[0])"
   ]
  },
  {
   "cell_type": "markdown",
   "id": "c52aedfd",
   "metadata": {},
   "source": [
    "### sys.stdin, sys.stdout, sys.stderr"
   ]
  },
  {
   "cell_type": "code",
   "execution_count": 1,
   "id": "fd14c28e",
   "metadata": {},
   "outputs": [
    {
     "name": "stdout",
     "output_type": "stream",
     "text": [
      "<_io.TextIOWrapper name='<stdin>' mode='r' encoding='cp1252'>\n",
      "<ipykernel.iostream.OutStream object at 0x00000283ECFFAC40>\n",
      "<ipykernel.iostream.OutStream object at 0x00000283ECFFAC70>\n"
     ]
    }
   ],
   "source": [
    "import sys\n",
    "for j in (sys.stdin, sys.stdout, sys.stderr):\n",
    "    print (j)"
   ]
  },
  {
   "cell_type": "markdown",
   "id": "e51b3bd6",
   "metadata": {},
   "source": [
    "### getdefaultencoding() /setdefaultencoding()"
   ]
  },
  {
   "cell_type": "code",
   "execution_count": 2,
   "id": "1b773e8d",
   "metadata": {},
   "outputs": [
    {
     "name": "stdout",
     "output_type": "stream",
     "text": [
      "utf-8\n"
     ]
    }
   ],
   "source": [
    "print(sys.getdefaultencoding())"
   ]
  },
  {
   "cell_type": "code",
   "execution_count": 3,
   "id": "2ca82243",
   "metadata": {},
   "outputs": [
    {
     "ename": "AttributeError",
     "evalue": "module 'sys' has no attribute 'setdefaultencoding'",
     "output_type": "error",
     "traceback": [
      "\u001b[1;31m---------------------------------------------------------------------------\u001b[0m",
      "\u001b[1;31mAttributeError\u001b[0m                            Traceback (most recent call last)",
      "Input \u001b[1;32mIn [3]\u001b[0m, in \u001b[0;36m<cell line: 2>\u001b[1;34m()\u001b[0m\n\u001b[0;32m      1\u001b[0m \u001b[38;5;28;01mimport\u001b[39;00m \u001b[38;5;21;01msys\u001b[39;00m\n\u001b[1;32m----> 2\u001b[0m \u001b[43msys\u001b[49m\u001b[38;5;241;43m.\u001b[39;49m\u001b[43msetdefaultencoding\u001b[49m(\u001b[38;5;124m'\u001b[39m\u001b[38;5;124mUTF8\u001b[39m\u001b[38;5;124m'\u001b[39m)\n",
      "\u001b[1;31mAttributeError\u001b[0m: module 'sys' has no attribute 'setdefaultencoding'"
     ]
    }
   ],
   "source": [
    "import sys\n",
    "sys.setdefaultencoding('UTF8')"
   ]
  },
  {
   "cell_type": "code",
   "execution_count": null,
   "id": "e21e9785",
   "metadata": {},
   "outputs": [],
   "source": []
  }
 ],
 "metadata": {
  "kernelspec": {
   "display_name": "Python 3 (ipykernel)",
   "language": "python",
   "name": "python3"
  },
  "language_info": {
   "codemirror_mode": {
    "name": "ipython",
    "version": 3
   },
   "file_extension": ".py",
   "mimetype": "text/x-python",
   "name": "python",
   "nbconvert_exporter": "python",
   "pygments_lexer": "ipython3",
   "version": "3.9.12"
  }
 },
 "nbformat": 4,
 "nbformat_minor": 5
}
