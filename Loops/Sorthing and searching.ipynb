{
 "cells": [
  {
   "cell_type": "markdown",
   "id": "a84253f6",
   "metadata": {},
   "source": [
    "# Quick Sort"
   ]
  },
  {
   "cell_type": "code",
   "execution_count": 51,
   "id": "b8adee6f",
   "metadata": {},
   "outputs": [],
   "source": [
    "def partition(arr,low,high):\n",
    "    i=low-1\n",
    "    piviot=arr[high]\n",
    "    for j in range(low,high):\n",
    "        if arr[j]<piviot:\n",
    "            print(arr[i],arr[j])\n",
    "            print(\"i , j \", i ,j)\n",
    "            i+=1\n",
    "            arr[i],arr[j]=arr[j],arr[i]\n",
    "        print(arr)\n",
    "    arr[i+1],arr[high]=arr[high],arr[i+1]\n",
    "    print(i+1)\n",
    "    print(arr)\n",
    "    return i+1"
   ]
  },
  {
   "cell_type": "code",
   "execution_count": 52,
   "id": "dcf3a8be",
   "metadata": {},
   "outputs": [],
   "source": [
    "def quick_sort(array, low, high): \n",
    "\n",
    "    if low < high: \n",
    "        pi = partition(array, low, high) \n",
    "        print(\"==\")\n",
    "        print(quick_sort(array, low, pi - 1) )\n",
    "        print(\"++\")\n",
    "        print(quick_sort(array, pi + 1, high))"
   ]
  },
  {
   "cell_type": "code",
   "execution_count": 53,
   "id": "59a42bf9",
   "metadata": {
    "scrolled": false
   },
   "outputs": [
    {
     "name": "stdout",
     "output_type": "stream",
     "text": [
      "[10, 7, 8, 9, 1, 5]\n",
      "[10, 7, 8, 9, 1, 5]\n",
      "[10, 7, 8, 9, 1, 5]\n",
      "[10, 7, 8, 9, 1, 5]\n",
      "5 1\n",
      "i , j  -1 4\n",
      "[1, 7, 8, 9, 10, 5]\n",
      "1\n",
      "[1, 5, 8, 9, 10, 7]\n",
      "==\n",
      "None\n",
      "++\n",
      "[1, 5, 8, 9, 10, 7]\n",
      "[1, 5, 8, 9, 10, 7]\n",
      "[1, 5, 8, 9, 10, 7]\n",
      "2\n",
      "[1, 5, 7, 9, 10, 8]\n",
      "==\n",
      "None\n",
      "++\n",
      "[1, 5, 7, 9, 10, 8]\n",
      "[1, 5, 7, 9, 10, 8]\n",
      "3\n",
      "[1, 5, 7, 8, 10, 9]\n",
      "==\n",
      "None\n",
      "++\n",
      "[1, 5, 7, 8, 10, 9]\n",
      "4\n",
      "[1, 5, 7, 8, 9, 10]\n",
      "==\n",
      "None\n",
      "++\n",
      "None\n",
      "None\n",
      "None\n",
      "None\n"
     ]
    }
   ],
   "source": [
    "array = [ 10, 7, 8, 9, 1, 5] \n",
    "\n",
    "quick_sort(array, 0, len(array) - 1) \n"
   ]
  },
  {
   "cell_type": "markdown",
   "id": "42dbabaf",
   "metadata": {},
   "source": [
    "# Binary Search"
   ]
  },
  {
   "cell_type": "code",
   "execution_count": 70,
   "id": "0f689407",
   "metadata": {},
   "outputs": [],
   "source": [
    "def binarySearch(array,left_index,right_index,searchElement):\n",
    "    if left_index <= right_index:\n",
    "        mid_position=left_index+(right_index-left_index)//2\n",
    "        if array[mid_position]== searchElement:\n",
    "            return mid_position\n",
    "        elif array[mid_position]>searchElement:\n",
    "            return binarySearch(array,left_index,mid_position-1,searchElement)\n",
    "        else:\n",
    "            return binarySearch(array,mid_position+1,right_index,searchElement)\n",
    "    else:\n",
    "        return -1"
   ]
  },
  {
   "cell_type": "code",
   "execution_count": 71,
   "id": "4669e458",
   "metadata": {},
   "outputs": [
    {
     "name": "stdout",
     "output_type": "stream",
     "text": [
      "3\n"
     ]
    }
   ],
   "source": [
    "print(binarySearch([2, 3, 4, 10, 40],0,len([2, 3, 4, 10, 40])-1,10))"
   ]
  },
  {
   "cell_type": "code",
   "execution_count": 74,
   "id": "ddca4c31",
   "metadata": {},
   "outputs": [],
   "source": [
    "def binarySearch(array,left_index,right_index,searchElement):\n",
    "    while left_index<=right_index:\n",
    "        mid_position=left_index+(right_index-left_index)//2\n",
    "        if array[mid_position]== searchElement:\n",
    "            return mid_position\n",
    "        elif array[mid_position]<searchElement:\n",
    "            left_index = mid_position + 1\n",
    "        else:\n",
    "            right_index = mid_position-1\n",
    "    return -1"
   ]
  },
  {
   "cell_type": "code",
   "execution_count": 75,
   "id": "ee7d932e",
   "metadata": {},
   "outputs": [
    {
     "name": "stdout",
     "output_type": "stream",
     "text": [
      "3\n"
     ]
    }
   ],
   "source": [
    "print(binarySearch([2, 3, 4, 10, 40],0,len([2, 3, 4, 10, 40])-1,10))"
   ]
  },
  {
   "cell_type": "code",
   "execution_count": null,
   "id": "702ca9e7",
   "metadata": {},
   "outputs": [],
   "source": []
  }
 ],
 "metadata": {
  "kernelspec": {
   "display_name": "Python 3 (ipykernel)",
   "language": "python",
   "name": "python3"
  },
  "language_info": {
   "codemirror_mode": {
    "name": "ipython",
    "version": 3
   },
   "file_extension": ".py",
   "mimetype": "text/x-python",
   "name": "python",
   "nbconvert_exporter": "python",
   "pygments_lexer": "ipython3",
   "version": "3.9.12"
  }
 },
 "nbformat": 4,
 "nbformat_minor": 5
}
