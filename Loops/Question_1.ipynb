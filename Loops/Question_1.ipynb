{
 "cells": [
  {
   "cell_type": "markdown",
   "id": "b182b516",
   "metadata": {},
   "source": [
    "1.Write a program which will find all such numbers which are divisible by 7 but are not a multiple of 5, between 2000 and 3200 (both included).\n",
    "The numbers obtained should be printed in a comma-separated sequence on a single line."
   ]
  },
  {
   "cell_type": "code",
   "execution_count": 3,
   "id": "c6773b79",
   "metadata": {},
   "outputs": [
    {
     "name": "stdout",
     "output_type": "stream",
     "text": [
      "2002,2009,2016,2023,2037,2044,2051,2058,2072,2079,2086,2093,2107,2114,2121,2128,2142,2149,2156,2163,2177,2184,2191,2198,2212,2219,2226,2233,2247,2254,2261,2268,2282,2289,2296,2303,2317,2324,2331,2338,2352,2359,2366,2373,2387,2394,2401,2408,2422,2429,2436,2443,2457,2464,2471,2478,2492,2499,2506,2513,2527,2534,2541,2548,2562,2569,2576,2583,2597,2604,2611,2618,2632,2639,2646,2653,2667,2674,2681,2688,2702,2709,2716,2723,2737,2744,2751,2758,2772,2779,2786,2793,2807,2814,2821,2828,2842,2849,2856,2863,2877,2884,2891,2898,2912,2919,2926,2933,2947,2954,2961,2968,2982,2989,2996,3003,3017,3024,3031,3038,3052,3059,3066,3073,3087,3094,3101,3108,3122,3129,3136,3143,3157,3164,3171,3178,3192,3199,"
     ]
    }
   ],
   "source": [
    "def check_num(num):\n",
    "    if num %7==0 and num%5!=0:\n",
    "        print(num,end=\",\")\n",
    "for i in range(2000,3200):\n",
    "    check_num(i)"
   ]
  },
  {
   "cell_type": "markdown",
   "id": "0611d89f",
   "metadata": {},
   "source": [
    "2.Write a program which can compute the factorial of a given numbers.\n",
    "The results should be printed in a comma-separated sequence on a single line.\n",
    "Suppose the following input is supplied to the program:\n",
    "8\n",
    "Then, the output should be:\n",
    "40320"
   ]
  },
  {
   "cell_type": "code",
   "execution_count": 5,
   "id": "454405b0",
   "metadata": {},
   "outputs": [
    {
     "name": "stdout",
     "output_type": "stream",
     "text": [
      "Enter the number to find the Factorial 8\n",
      "40320\n"
     ]
    }
   ],
   "source": [
    "def factorial(num):\n",
    "    fact=1\n",
    "    for i in range(num,0,-1):\n",
    "        fact*=i\n",
    "    return fact\n",
    "print(factorial(int(input(\"Enter the number to find the Factorial\"))))"
   ]
  },
  {
   "cell_type": "markdown",
   "id": "2115e08c",
   "metadata": {},
   "source": [
    "3.With a given integral number n, write a program to generate a dictionary that contains (i, i*i) such that is an integral number between 1 and n (both included). and then the program should print the dictionary.\n",
    "Suppose the following input is supplied to the program:\n",
    "8\n",
    "Then, the output should be:\n",
    "{1: 1, 2: 4, 3: 9, 4: 16, 5: 25, 6: 36, 7: 49, 8: 64}"
   ]
  },
  {
   "cell_type": "code",
   "execution_count": 8,
   "id": "cfd08b37",
   "metadata": {},
   "outputs": [
    {
     "name": "stdout",
     "output_type": "stream",
     "text": [
      "Enter the number 8\n",
      "{1: 1, 2: 4, 3: 9, 4: 16, 5: 25, 6: 36, 7: 49, 8: 64}\n"
     ]
    }
   ],
   "source": [
    "dict1={}\n",
    "for i in range(1,int(input(\"Enter the number\"))+1):\n",
    "    dict1[i]=i*i\n",
    "print(dict1)"
   ]
  },
  {
   "cell_type": "markdown",
   "id": "61442384",
   "metadata": {},
   "source": [
    "4.Write a program which accepts a sequence of comma-separated numbers from console and generate a list and a tuple which contains every number.\n",
    "Suppose the following input is supplied to the program:\n",
    "34,67,55,33,12,98\n",
    "Then, the output should be:\n",
    "['34', '67', '55', '33', '12', '98']\n",
    "('34', '67', '55', '33', '12', '98')"
   ]
  },
  {
   "cell_type": "code",
   "execution_count": 10,
   "id": "d27e4908",
   "metadata": {},
   "outputs": [
    {
     "name": "stdout",
     "output_type": "stream",
     "text": [
      "Enter the number10,21,54,87,98,65,987,98,4,98,65,98,65,98\n",
      "[10, 21, 54, 87, 98, 65, 987, 98, 4, 98, 65, 98, 65, 98]\n",
      "(10, 21, 54, 87, 98, 65, 987, 98, 4, 98, 65, 98, 65, 98)\n"
     ]
    }
   ],
   "source": [
    "ip=list(map(int,input(\"Enter the number\").split(\",\")))\n",
    "print(ip)\n",
    "print(tuple(ip))"
   ]
  },
  {
   "cell_type": "markdown",
   "id": "05603333",
   "metadata": {},
   "source": [
    "5.Define a class which has at least two methods:\n",
    "getString: to get a string from console input\n",
    "printString: to print the string in upper case.\n",
    "Also please include simple test function to test the class methods."
   ]
  },
  {
   "cell_type": "code",
   "execution_count": 12,
   "id": "01fc58aa",
   "metadata": {},
   "outputs": [
    {
     "name": "stdout",
     "output_type": "stream",
     "text": [
      "Enter the string Hi my name is SHUBHAM\n",
      "The string you entered is  Hi my name is SHUBHAM\n"
     ]
    }
   ],
   "source": [
    "def getString():\n",
    "    return input(\"Enter the string \")\n",
    "def printString():\n",
    "    print(\"The string you entered is \",getString())\n",
    "printString()"
   ]
  },
  {
   "cell_type": "markdown",
   "id": "242dbe1d",
   "metadata": {},
   "source": [
    "6.Write a program that calculates and prints the value according to the given formula:\n",
    "Q = Square root of [(2 * C * D)/H]\n",
    "Following are the fixed values of C and H:\n",
    "C is 50. H is 30.\n",
    "D is the variable whose values should be input to your program in a comma-separated sequence.\n",
    "Example\n",
    "Let us assume the following comma separated input sequence is given to the program:\n",
    "100,150,180\n",
    "The output of the program should be:\n",
    "18,22,24"
   ]
  },
  {
   "cell_type": "code",
   "execution_count": 17,
   "id": "e048f42b",
   "metadata": {},
   "outputs": [
    {
     "name": "stdout",
     "output_type": "stream",
     "text": [
      "Enter the value of D 100,150,180\n",
      "18,22,24,"
     ]
    }
   ],
   "source": [
    "def formula(D,C=50,H=30):\n",
    "    return int(((2 * C * D)/H)**0.5)\n",
    "ls=list(map(int,input(\"Enter the value of D \").split(\",\")))\n",
    "for i in ls:\n",
    "    print(formula(i),end=\",\")"
   ]
  },
  {
   "cell_type": "markdown",
   "id": "f1b30d6b",
   "metadata": {},
   "source": [
    "7.Write a program which takes 2 digits, X,Y as input and generates a 2-dimensional array. The element value in the i-th row and j-th column of the array should be i*j.\n",
    "Note: i=0,1.., X-1; j=0,1,¡­Y-1.\n",
    "Example\n",
    "Suppose the following inputs are given to the program:\n",
    "3,5\n",
    "Then, the output of the program should be:\n",
    "[[0, 0, 0, 0, 0], [0, 1, 2, 3, 4], [0, 2, 4, 6, 8]] "
   ]
  },
  {
   "cell_type": "code",
   "execution_count": 21,
   "id": "68de9d53",
   "metadata": {},
   "outputs": [
    {
     "name": "stdout",
     "output_type": "stream",
     "text": [
      "ENter 2 numbers3,5\n",
      "[[0, 0, 0, 0, 0], [0, 1, 2, 3, 4], [0, 2, 4, 6, 8]]\n"
     ]
    }
   ],
   "source": [
    "x,y=map(int,input(\"ENter 2 numbers\").split(\",\"))\n",
    "ls=[]\n",
    "for i in range(0,x):\n",
    "    ls1=[]\n",
    "    for j in range(0,y):\n",
    "        ls1.append(i*j)\n",
    "    ls.append(ls1)\n",
    "print(ls)"
   ]
  },
  {
   "cell_type": "markdown",
   "id": "916e0cc8",
   "metadata": {},
   "source": [
    "8.Write a program that accepts a comma separated sequence of words as input and prints the words in a comma-separated sequence after sorting them alphabetically.\n",
    "Suppose the following input is supplied to the program:\n",
    "without,hello,bag,world\n",
    "Then, the output should be:\n",
    "bag,hello,without,world"
   ]
  },
  {
   "cell_type": "code",
   "execution_count": 24,
   "id": "3d84ae6a",
   "metadata": {},
   "outputs": [
    {
     "name": "stdout",
     "output_type": "stream",
     "text": [
      "Enter the comma seperated wordsHello, world, without , bag , how , are , you ,?\n",
      "[' are ', ' bag ', ' how ', ' without ', ' world', ' you ', '?', 'Hello']\n"
     ]
    }
   ],
   "source": [
    "print(sorted(list(map(str,input(\"Enter the comma seperated words\").split(\",\")))))"
   ]
  },
  {
   "cell_type": "markdown",
   "id": "f6248a35",
   "metadata": {},
   "source": [
    "9.Write a program that accepts sequence of lines as input and prints the lines after making all characters in the sentence capitalized.\n",
    "Suppose the following input is supplied to the program:\n",
    "Hello world\n",
    "Practice makes perfect\n",
    "Then, the output should be:\n",
    "HELLO WORLD\n",
    "PRACTICE MAKES PERFECT"
   ]
  },
  {
   "cell_type": "code",
   "execution_count": 30,
   "id": "4921cfe1",
   "metadata": {},
   "outputs": [
    {
     "name": "stdout",
     "output_type": "stream",
     "text": [
      "Enter the number of lines2\n",
      "Hello world\n",
      "Practice makes perfect\n",
      "HELLO WORLD\n",
      "PRACTICE MAKES PERFECT\n"
     ]
    }
   ],
   "source": [
    "ln=int(input(\"Enter the number of lines\"))\n",
    "ls=[]\n",
    "for i in range(0,ln):\n",
    "    ls.append(\" \".join(map(str,input().split())).upper())\n",
    "for i in ls:\n",
    "    print(i)"
   ]
  },
  {
   "cell_type": "markdown",
   "id": "ac4960bf",
   "metadata": {},
   "source": [
    "10.Write a program that accepts a sequence of whitespace separated words as input and prints the words after removing all duplicate words and sorting them alphanumerically.\n",
    "Suppose the following input is supplied to the program:\n",
    "hello world and practice makes perfect and hello world again\n",
    "Then, the output should be:\n",
    "again and hello makes perfect practice world"
   ]
  },
  {
   "cell_type": "code",
   "execution_count": 33,
   "id": "be770f52",
   "metadata": {},
   "outputs": [
    {
     "name": "stdout",
     "output_type": "stream",
     "text": [
      "Enter the  words hello world and practice makes perfect and hello world again\n",
      "again and hello makes perfect practice world\n"
     ]
    }
   ],
   "source": [
    "print(*sorted(set(map(str,input(\"Enter the  words\").split()))))"
   ]
  },
  {
   "cell_type": "markdown",
   "id": "2695937b",
   "metadata": {},
   "source": [
    "11.Write a program which accepts a sequence of comma separated 4 digit binary numbers as its input and then check whether they are divisible by 5 or not. The numbers that are divisible by 5 are to be printed in a comma separated sequence.\n",
    "Example:\n",
    "0100,0011,1010,1001\n",
    "Then the output should be:\n",
    "1010\n",
    "Notes: Assume the data is input by console."
   ]
  },
  {
   "cell_type": "code",
   "execution_count": 34,
   "id": "a9bfd580",
   "metadata": {},
   "outputs": [
    {
     "name": "stdout",
     "output_type": "stream",
     "text": [
      "Enter the comma seperated binary digit0100,0011,1010,1001\n",
      "100 1010 "
     ]
    }
   ],
   "source": [
    "ls=list(map(int,input(\"Enter the comma seperated binary digit\").split(\",\")))\n",
    "for i in ls:\n",
    "    if i %5==0:\n",
    "        print(i,end=\" \")"
   ]
  },
  {
   "cell_type": "markdown",
   "id": "7cbe0c9a",
   "metadata": {},
   "source": [
    "12.Write a program, which will find all such numbers between 1000 and 3000 (both included) such that each digit of the number is an even number.\n",
    "The numbers obtained should be printed in a comma-separated sequence on a single line."
   ]
  },
  {
   "cell_type": "code",
   "execution_count": 44,
   "id": "1f8d3120",
   "metadata": {},
   "outputs": [
    {
     "name": "stdout",
     "output_type": "stream",
     "text": [
      "2000,2002,2004,2006,2008,2020,2022,2024,2026,2028,2040,2042,2044,2046,2048,2060,2062,2064,2066,2068,2080,2082,2084,2086,2088,2200,2202,2204,2206,2208,2220,2222,2224,2226,2228,2240,2242,2244,2246,2248,2260,2262,2264,2266,2268,2280,2282,2284,2286,2288,2400,2402,2404,2406,2408,2420,2422,2424,2426,2428,2440,2442,2444,2446,2448,2460,2462,2464,2466,2468,2480,2482,2484,2486,2488,2600,2602,2604,2606,2608,2620,2622,2624,2626,2628,2640,2642,2644,2646,2648,2660,2662,2664,2666,2668,2680,2682,2684,2686,2688,2800,2802,2804,2806,2808,2820,2822,2824,2826,2828,2840,2842,2844,2846,2848,2860,2862,2864,2866,2868,2880,2882,2884,2886,2888,"
     ]
    }
   ],
   "source": [
    "def eachEvenNumber(num):\n",
    "    counter=0\n",
    "    for i in list(str(num)):\n",
    "        if int(i) %2==0:\n",
    "            counter+=1\n",
    "    if counter==4:\n",
    "        print( num,end=\",\")\n",
    "    else:\n",
    "        pass\n",
    "for i in range(1000,3001):\n",
    "    eachEvenNumber(i)"
   ]
  },
  {
   "cell_type": "markdown",
   "id": "cd01b7be",
   "metadata": {},
   "source": [
    "13.Write a program that accepts a sentence and calculate the number of letters and digits.\n",
    "Suppose the following input is supplied to the program:\n",
    "hello world! 123\n",
    "Then, the output should be:\n",
    "LETTERS 10\n",
    "DIGITS 3"
   ]
  },
  {
   "cell_type": "code",
   "execution_count": 54,
   "id": "26541951",
   "metadata": {},
   "outputs": [
    {
     "name": "stdout",
     "output_type": "stream",
     "text": [
      "Enter the String hello world! 123\n",
      "LETTERS 10 \n",
      "DIGITS 3\n"
     ]
    }
   ],
   "source": [
    "def counts(string):\n",
    "    letter_counter=0\n",
    "    digit_counter=0\n",
    "    for i in string:\n",
    "        if (ord(i) >= 65 and ord(i) < 91) or (ord(i)>=97 and ord(i)<123):\n",
    "            letter_counter+=1\n",
    "        elif(ord(i)>= 48 and ord(i) <= 57):\n",
    "            digit_counter+=1\n",
    "    print(\"LETTERS {} \\nDIGITS {}\".format(letter_counter,digit_counter))\n",
    "counts(input(\"Enter the String\"))"
   ]
  },
  {
   "cell_type": "markdown",
   "id": "ada50797",
   "metadata": {},
   "source": [
    "14.Write a program that accepts a sentence and calculate the number of upper case letters and lower case letters.\n",
    "Suppose the following input is supplied to the program:\n",
    "Hello world!\n",
    "Then, the output should be:\n",
    "UPPER CASE 1\n",
    "LOWER CASE 9"
   ]
  },
  {
   "cell_type": "code",
   "execution_count": 56,
   "id": "3471e1c0",
   "metadata": {},
   "outputs": [
    {
     "name": "stdout",
     "output_type": "stream",
     "text": [
      "Enter the String Hello world!\n",
      "UPPER CASE 1 \n",
      "LOWER CASE 9\n"
     ]
    }
   ],
   "source": [
    "def counts1(string):\n",
    "    up_count=0\n",
    "    low_count=0\n",
    "    for i in string:\n",
    "        if i.isupper():\n",
    "            up_count+=1\n",
    "        elif i.islower():\n",
    "            low_count+=1\n",
    "    print(\"UPPER CASE {} \\nLOWER CASE {}\".format(up_count,low_count))\n",
    "counts1(input(\"Enter the String\"))"
   ]
  },
  {
   "cell_type": "markdown",
   "id": "0335af62",
   "metadata": {},
   "source": [
    "15.Write a program that computes the value of a+aa+aaa+aaaa with a given digit as the value of a.\n",
    "Suppose the following input is supplied to the program:\n",
    "9\n",
    "Then, the output should be:\n",
    "11106"
   ]
  },
  {
   "cell_type": "code",
   "execution_count": 62,
   "id": "66240149",
   "metadata": {},
   "outputs": [
    {
     "name": "stdout",
     "output_type": "stream",
     "text": [
      "Enter the number 9\n",
      "11106\n"
     ]
    }
   ],
   "source": [
    "num=input(\"Enter the number\").strip()\n",
    "ls=[]\n",
    "for i in range(1,5):\n",
    "    ls.append(num*i)\n",
    "sums=0\n",
    "for i in ls:\n",
    "    sums+=int(i)\n",
    "print(sums)"
   ]
  },
  {
   "cell_type": "code",
   "execution_count": null,
   "id": "1a086f09",
   "metadata": {},
   "outputs": [],
   "source": []
  }
 ],
 "metadata": {
  "kernelspec": {
   "display_name": "Python 3 (ipykernel)",
   "language": "python",
   "name": "python3"
  },
  "language_info": {
   "codemirror_mode": {
    "name": "ipython",
    "version": 3
   },
   "file_extension": ".py",
   "mimetype": "text/x-python",
   "name": "python",
   "nbconvert_exporter": "python",
   "pygments_lexer": "ipython3",
   "version": "3.9.12"
  }
 },
 "nbformat": 4,
 "nbformat_minor": 5
}
