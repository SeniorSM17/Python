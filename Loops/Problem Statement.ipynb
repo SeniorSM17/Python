{
 "cells": [
  {
   "cell_type": "code",
   "execution_count": 5,
   "id": "9bcdd538",
   "metadata": {},
   "outputs": [
    {
     "name": "stdout",
     "output_type": "stream",
     "text": [
      "Enter the number44\n",
      "1=1\n",
      "1+2=3\n",
      "1+2+3=6\n",
      "1+2+3+4=10\n",
      "1+2+3+4+5=15\n",
      "1+2+3+4+5+6=21\n",
      "1+2+3+4+5+6+7=28\n",
      "1+2+3+4+5+6+7+8=36\n",
      "1+2+3+4+5+6+7+8+9=45\n",
      "1+2+3+4+5+6+7+8+9+10=55\n",
      "1+2+3+4+5+6+7+8+9+10+11=66\n",
      "1+2+3+4+5+6+7+8+9+10+11+12=78\n",
      "1+2+3+4+5+6+7+8+9+10+11+12+13=91\n",
      "1+2+3+4+5+6+7+8+9+10+11+12+13+14=105\n",
      "1+2+3+4+5+6+7+8+9+10+11+12+13+14+15=120\n",
      "1+2+3+4+5+6+7+8+9+10+11+12+13+14+15+16=136\n",
      "1+2+3+4+5+6+7+8+9+10+11+12+13+14+15+16+17=153\n",
      "1+2+3+4+5+6+7+8+9+10+11+12+13+14+15+16+17+18=171\n",
      "1+2+3+4+5+6+7+8+9+10+11+12+13+14+15+16+17+18+19=190\n",
      "1+2+3+4+5+6+7+8+9+10+11+12+13+14+15+16+17+18+19+20=210\n",
      "1+2+3+4+5+6+7+8+9+10+11+12+13+14+15+16+17+18+19+20+21=231\n",
      "1+2+3+4+5+6+7+8+9+10+11+12+13+14+15+16+17+18+19+20+21+22=253\n",
      "1+2+3+4+5+6+7+8+9+10+11+12+13+14+15+16+17+18+19+20+21+22+23=276\n",
      "1+2+3+4+5+6+7+8+9+10+11+12+13+14+15+16+17+18+19+20+21+22+23+24=300\n",
      "1+2+3+4+5+6+7+8+9+10+11+12+13+14+15+16+17+18+19+20+21+22+23+24+25=325\n",
      "1+2+3+4+5+6+7+8+9+10+11+12+13+14+15+16+17+18+19+20+21+22+23+24+25+26=351\n",
      "1+2+3+4+5+6+7+8+9+10+11+12+13+14+15+16+17+18+19+20+21+22+23+24+25+26+27=378\n",
      "1+2+3+4+5+6+7+8+9+10+11+12+13+14+15+16+17+18+19+20+21+22+23+24+25+26+27+28=406\n",
      "1+2+3+4+5+6+7+8+9+10+11+12+13+14+15+16+17+18+19+20+21+22+23+24+25+26+27+28+29=435\n",
      "1+2+3+4+5+6+7+8+9+10+11+12+13+14+15+16+17+18+19+20+21+22+23+24+25+26+27+28+29+30=465\n",
      "1+2+3+4+5+6+7+8+9+10+11+12+13+14+15+16+17+18+19+20+21+22+23+24+25+26+27+28+29+30+31=496\n",
      "1+2+3+4+5+6+7+8+9+10+11+12+13+14+15+16+17+18+19+20+21+22+23+24+25+26+27+28+29+30+31+32=528\n",
      "1+2+3+4+5+6+7+8+9+10+11+12+13+14+15+16+17+18+19+20+21+22+23+24+25+26+27+28+29+30+31+32+33=561\n",
      "1+2+3+4+5+6+7+8+9+10+11+12+13+14+15+16+17+18+19+20+21+22+23+24+25+26+27+28+29+30+31+32+33+34=595\n",
      "1+2+3+4+5+6+7+8+9+10+11+12+13+14+15+16+17+18+19+20+21+22+23+24+25+26+27+28+29+30+31+32+33+34+35=630\n",
      "1+2+3+4+5+6+7+8+9+10+11+12+13+14+15+16+17+18+19+20+21+22+23+24+25+26+27+28+29+30+31+32+33+34+35+36=666\n",
      "1+2+3+4+5+6+7+8+9+10+11+12+13+14+15+16+17+18+19+20+21+22+23+24+25+26+27+28+29+30+31+32+33+34+35+36+37=703\n",
      "1+2+3+4+5+6+7+8+9+10+11+12+13+14+15+16+17+18+19+20+21+22+23+24+25+26+27+28+29+30+31+32+33+34+35+36+37+38=741\n",
      "1+2+3+4+5+6+7+8+9+10+11+12+13+14+15+16+17+18+19+20+21+22+23+24+25+26+27+28+29+30+31+32+33+34+35+36+37+38+39=780\n",
      "1+2+3+4+5+6+7+8+9+10+11+12+13+14+15+16+17+18+19+20+21+22+23+24+25+26+27+28+29+30+31+32+33+34+35+36+37+38+39+40=820\n",
      "1+2+3+4+5+6+7+8+9+10+11+12+13+14+15+16+17+18+19+20+21+22+23+24+25+26+27+28+29+30+31+32+33+34+35+36+37+38+39+40+41=861\n",
      "1+2+3+4+5+6+7+8+9+10+11+12+13+14+15+16+17+18+19+20+21+22+23+24+25+26+27+28+29+30+31+32+33+34+35+36+37+38+39+40+41+42=903\n",
      "1+2+3+4+5+6+7+8+9+10+11+12+13+14+15+16+17+18+19+20+21+22+23+24+25+26+27+28+29+30+31+32+33+34+35+36+37+38+39+40+41+42+43=946\n",
      "1+2+3+4+5+6+7+8+9+10+11+12+13+14+15+16+17+18+19+20+21+22+23+24+25+26+27+28+29+30+31+32+33+34+35+36+37+38+39+40+41+42+43+44=990\n"
     ]
    }
   ],
   "source": [
    "n=int(input(\"Enter the number\"))\n",
    "for row in range(1,n+1): \n",
    "    c_sum=0     \n",
    "    for i in range(1,row+1): \n",
    "        c_sum=c_sum+i \n",
    "        if i<row: \n",
    "            print(i,'+',sep='',end='') \n",
    "        else: \n",
    "            print(i,sep='',end='') \n",
    "    print('=',c_sum,sep='') "
   ]
  },
  {
   "cell_type": "markdown",
   "id": "92c304f2",
   "metadata": {},
   "source": [
    "11.Write a program which accepts a sequence of comma separated 4 digit binary numbers as its input and then check whether they are divisible by 5 or not. The numbers that are divisible by 5 are to be printed in a comma separated sequence. Example: 0100,0011,1010,1001 Then the output should be: 1010 Notes: Assume the data is input by console."
   ]
  },
  {
   "cell_type": "code",
   "execution_count": 7,
   "id": "07a12741",
   "metadata": {},
   "outputs": [
    {
     "name": "stdout",
     "output_type": "stream",
     "text": [
      "Enter the comma seperated binary digit0100,0011,1010,1001\n",
      "1010\n"
     ]
    }
   ],
   "source": [
    "ls=list(map(str,input(\"Enter the comma seperated binary digit\").split(\",\")))\n",
    "for i in ls:\n",
    "    if int(i,2)%5==0:\n",
    "        print(i)"
   ]
  },
  {
   "cell_type": "code",
   "execution_count": 8,
   "id": "e79cce35",
   "metadata": {},
   "outputs": [
    {
     "name": "stdout",
     "output_type": "stream",
     "text": [
      "Enter the comma seperated binary digit 0100,0011,1010,1001\n",
      "64\n",
      "9\n",
      "520\n",
      "513\n"
     ]
    }
   ],
   "source": [
    "ls=list(map(str,input(\"Enter the comma seperated binary digit\").split(\",\")))\n",
    "for i in ls:\n",
    "    print(int(i,8))"
   ]
  },
  {
   "cell_type": "code",
   "execution_count": 9,
   "id": "0a7a3c43",
   "metadata": {},
   "outputs": [
    {
     "name": "stdout",
     "output_type": "stream",
     "text": [
      "Enter the comma seperated binary digit0100,0011,1010,1001\n",
      "4\n",
      "3\n",
      "10\n",
      "9\n"
     ]
    }
   ],
   "source": [
    "ls=list(map(str,input(\"Enter the comma seperated binary digit\").split(\",\")))\n",
    "for i in ls:\n",
    "    print(int(i,2))"
   ]
  },
  {
   "cell_type": "code",
   "execution_count": 10,
   "id": "378bc329",
   "metadata": {},
   "outputs": [
    {
     "name": "stdout",
     "output_type": "stream",
     "text": [
      "Enter the comma seperated binary digit 0100,0011,1010,1001\n",
      "256\n",
      "17\n",
      "4112\n",
      "4097\n"
     ]
    }
   ],
   "source": [
    "ls=list(map(str,input(\"Enter the comma seperated binary digit\").split(\",\")))\n",
    "for i in ls:\n",
    "    print(int(i,16))"
   ]
  },
  {
   "cell_type": "code",
   "execution_count": 11,
   "id": "8aac0dd0",
   "metadata": {},
   "outputs": [
    {
     "name": "stdout",
     "output_type": "stream",
     "text": [
      "Enter the comma seperated binary digit  0100,0011,1010,1001\n",
      "25\n",
      "6\n",
      "130\n",
      "126\n"
     ]
    }
   ],
   "source": [
    "ls=list(map(str,input(\"Enter the comma seperated binary digit\").split(\",\")))\n",
    "for i in ls:\n",
    "    print(int(i,5))"
   ]
  },
  {
   "cell_type": "code",
   "execution_count": 13,
   "id": "b84b459b",
   "metadata": {},
   "outputs": [
    {
     "name": "stdout",
     "output_type": "stream",
     "text": [
      "Enter the comma seperated binary digit  0100,0011,1010,1001\n",
      "1296\n",
      "37\n",
      "46692\n",
      "46657\n"
     ]
    }
   ],
   "source": [
    "ls=list(map(str,input(\"Enter the comma seperated binary digit\").split(\",\")))\n",
    "for i in ls:\n",
    "    print(int(i,36))"
   ]
  },
  {
   "cell_type": "code",
   "execution_count": null,
   "id": "d46657c7",
   "metadata": {},
   "outputs": [],
   "source": []
  }
 ],
 "metadata": {
  "kernelspec": {
   "display_name": "Python 3 (ipykernel)",
   "language": "python",
   "name": "python3"
  },
  "language_info": {
   "codemirror_mode": {
    "name": "ipython",
    "version": 3
   },
   "file_extension": ".py",
   "mimetype": "text/x-python",
   "name": "python",
   "nbconvert_exporter": "python",
   "pygments_lexer": "ipython3",
   "version": "3.9.12"
  }
 },
 "nbformat": 4,
 "nbformat_minor": 5
}
