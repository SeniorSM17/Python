{
 "cells": [
  {
   "cell_type": "markdown",
   "id": "cf6d8e38",
   "metadata": {},
   "source": [
    "You're writing code to control your town's traffic lights. \n",
    "You need a function to handle each change from green, to yellow, to red, and then to green again.\n",
    "\n",
    "Complete the function that takes a string as an argument representing the current state of the light and returns a string representing the state the light should change to.\n",
    "\n",
    "For example, when the input is green, output should be yellow.\n",
    "\n",
    "Test Case 1\n",
    "Input \n",
    "Green\n",
    "Output\n",
    "Yellow\n",
    "\n",
    "Test Case 2\n",
    "Input\n",
    "Red\n",
    "Output\n",
    "Green"
   ]
  },
  {
   "cell_type": "code",
   "execution_count": 1,
   "id": "66131792",
   "metadata": {},
   "outputs": [],
   "source": [
    "def update_light(current):\n",
    "    if current=='green':\n",
    "        return 'yellow'\n",
    "    elif current == 'yellow':\n",
    "        return 'red'\n",
    "    else:\n",
    "        return 'green'"
   ]
  },
  {
   "cell_type": "code",
   "execution_count": 2,
   "id": "fdd347b3",
   "metadata": {},
   "outputs": [
    {
     "name": "stdout",
     "output_type": "stream",
     "text": [
      "green\n"
     ]
    }
   ],
   "source": [
    "print(update_light(\"red\"))"
   ]
  },
  {
   "cell_type": "code",
   "execution_count": null,
   "id": "c97fb0ea",
   "metadata": {},
   "outputs": [],
   "source": []
  }
 ],
 "metadata": {
  "kernelspec": {
   "display_name": "Python 3 (ipykernel)",
   "language": "python",
   "name": "python3"
  },
  "language_info": {
   "codemirror_mode": {
    "name": "ipython",
    "version": 3
   },
   "file_extension": ".py",
   "mimetype": "text/x-python",
   "name": "python",
   "nbconvert_exporter": "python",
   "pygments_lexer": "ipython3",
   "version": "3.9.12"
  }
 },
 "nbformat": 4,
 "nbformat_minor": 5
}
