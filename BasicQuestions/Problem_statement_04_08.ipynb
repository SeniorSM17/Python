{
 "cells": [
  {
   "cell_type": "markdown",
   "id": "af19b323",
   "metadata": {},
   "source": [
    "Write a Python program to find the strings in a given list, starting with a given prefix.\n",
    "Input:\n",
    "[( ca,('cat', 'car', 'fear', 'center'))]\n",
    "Output:\n",
    "['cat', 'car']\n",
    "Input:\n",
    "[(do,('cat', 'dog', 'shatter', 'donut', 'at', 'todo'))]\n",
    "Output:\n",
    "['dog', 'donut']"
   ]
  },
  {
   "cell_type": "code",
   "execution_count": 5,
   "id": "f794de17",
   "metadata": {},
   "outputs": [
    {
     "name": "stdout",
     "output_type": "stream",
     "text": [
      "Enter the String  cat car fear center\n",
      "Enter the String you want to starts with  ca\n",
      "cat\n",
      "car\n"
     ]
    }
   ],
   "source": [
    "ls=list(map(str,input(\"Enter the String \").split(\" \")))\n",
    "starts_with=input(\"Enter the String you want to starts with \").strip()\n",
    "for i in ls:\n",
    "    if i.startswith(starts_with):\n",
    "        print(i)"
   ]
  },
  {
   "cell_type": "code",
   "execution_count": null,
   "id": "a8db168d",
   "metadata": {},
   "outputs": [],
   "source": []
  }
 ],
 "metadata": {
  "kernelspec": {
   "display_name": "Python 3 (ipykernel)",
   "language": "python",
   "name": "python3"
  },
  "language_info": {
   "codemirror_mode": {
    "name": "ipython",
    "version": 3
   },
   "file_extension": ".py",
   "mimetype": "text/x-python",
   "name": "python",
   "nbconvert_exporter": "python",
   "pygments_lexer": "ipython3",
   "version": "3.9.12"
  }
 },
 "nbformat": 4,
 "nbformat_minor": 5
}
