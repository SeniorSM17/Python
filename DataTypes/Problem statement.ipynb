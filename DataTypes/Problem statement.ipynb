{
 "cells": [
  {
   "cell_type": "markdown",
   "id": "188941f1",
   "metadata": {},
   "source": [
    "# problem solving by TEAM1\n",
    "\n",
    "Write a program to check whether the given password is valid or not .\n",
    "\n",
    "conisder the password to be valid if it contain at least one digit ands one capital.\n",
    "\n",
    "\n",
    "\n",
    "input:it will be a single line containng string\n",
    "\n",
    "output: valid password or invalid password\n",
    "\n",
    "\n",
    "\n",
    "ex:GJ22191gopi\n",
    "\n",
    "ouput:valid password"
   ]
  },
  {
   "cell_type": "code",
   "execution_count": 3,
   "id": "a4c8ea01",
   "metadata": {},
   "outputs": [
    {
     "name": "stdout",
     "output_type": "stream",
     "text": [
      "Enter your passwordfgdg5dD\n",
      "Valid Password\n"
     ]
    }
   ],
   "source": [
    "password=input(\"Enter your password\")\n",
    "num_flag=False\n",
    "upper_flag=False\n",
    "for i in password:\n",
    "    if i.isupper():\n",
    "        upper_flag=True\n",
    "    elif i.isnumeric():\n",
    "        num_flag=True\n",
    "    \n",
    "    if num_flag and upper_flag:\n",
    "        print(\"Valid Password\")\n",
    "        break\n",
    "else:\n",
    "    print(\"Password not valid\")"
   ]
  },
  {
   "cell_type": "code",
   "execution_count": null,
   "id": "14fbd03e",
   "metadata": {},
   "outputs": [],
   "source": []
  }
 ],
 "metadata": {
  "kernelspec": {
   "display_name": "Python 3 (ipykernel)",
   "language": "python",
   "name": "python3"
  },
  "language_info": {
   "codemirror_mode": {
    "name": "ipython",
    "version": 3
   },
   "file_extension": ".py",
   "mimetype": "text/x-python",
   "name": "python",
   "nbconvert_exporter": "python",
   "pygments_lexer": "ipython3",
   "version": "3.9.12"
  }
 },
 "nbformat": 4,
 "nbformat_minor": 5
}
