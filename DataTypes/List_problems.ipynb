{
 "cells": [
  {
   "cell_type": "markdown",
   "id": "5f301683",
   "metadata": {},
   "source": [
    "### 1.Take 10 integer inputs from user and store them in a list and print them on screen."
   ]
  },
  {
   "cell_type": "code",
   "execution_count": 17,
   "id": "630e9b30",
   "metadata": {},
   "outputs": [],
   "source": [
    "def userInput(input_len=10):\n",
    "    print(\"Enter the {} numbers : \".format(input_len))\n",
    "    return list(map(int,input().split()))"
   ]
  },
  {
   "cell_type": "code",
   "execution_count": 14,
   "id": "11261e88",
   "metadata": {},
   "outputs": [
    {
     "name": "stdout",
     "output_type": "stream",
     "text": [
      "Enter the 10 numbers : \n",
      "1 2 3 4 5 6 7 8 9 10\n",
      "[1, 2, 3, 4, 5, 6, 7, 8, 9, 10]\n"
     ]
    }
   ],
   "source": [
    "print(userInput())"
   ]
  },
  {
   "cell_type": "markdown",
   "id": "f698503c",
   "metadata": {},
   "source": [
    "### 2.Take 10 integer inputs from user and store them in a list. Again ask user to give a number. Now, tell user whether that number is present in list or not.\n",
    "( Iterate over list using while loop )"
   ]
  },
  {
   "cell_type": "code",
   "execution_count": 2,
   "id": "80abefef",
   "metadata": {},
   "outputs": [
    {
     "name": "stdout",
     "output_type": "stream",
     "text": [
      "Enter the number: 1\n",
      "Enter the 10 numbers : \n",
      "1 2\n",
      "Element FOund\n"
     ]
    }
   ],
   "source": [
    "number=int(input(\"Enter the number: \"))\n",
    "i=0\n",
    "number_list=userInput()\n",
    "while i <=len(number_list):\n",
    "    if number == number_list[i]:\n",
    "        print(\"Element FOund\")\n",
    "        break\n",
    "    i+=1"
   ]
  },
  {
   "cell_type": "markdown",
   "id": "9a7751fd",
   "metadata": {},
   "source": [
    "### Take 20 integer inputs from user and print the following:\n",
    "number of positive numbers\n",
    "\n",
    "number of negative numbers\n",
    "\n",
    "number of odd numbers\n",
    "\n",
    "number of even numbers\n",
    "\n",
    "number of 0s."
   ]
  },
  {
   "cell_type": "code",
   "execution_count": 5,
   "id": "29e2aa90",
   "metadata": {},
   "outputs": [
    {
     "name": "stdout",
     "output_type": "stream",
     "text": [
      "Enter the 20 numbers : \n",
      "1 2 3 4 5 6 7 8 9 10 -11 -12 0 0 0 56 89 65 32 98 \n",
      "Positive Number Count is 15,\n",
      "Negative Number count is 2,\n",
      "Zero Number count is 3,\n",
      "Even Count is 12,\n",
      "Odd Count is8\n"
     ]
    }
   ],
   "source": [
    "number_list=userInput(20)\n",
    "positive=0\n",
    "zero_count=0\n",
    "negative=0\n",
    "odd_count=0\n",
    "even_count=0\n",
    "for number in number_list:\n",
    "    if number > 0 :\n",
    "        positive+=1\n",
    "    elif number == 0:\n",
    "        zero_count+=1\n",
    "    else:\n",
    "        negative+=1\n",
    "    if number%2==0:\n",
    "        even_count+=1\n",
    "    else:\n",
    "        odd_count+=1\n",
    "print(\"Positive Number Count is {0},\\nNegative Number count is {2},\\nZero Number count is {1},\\nEven Count is {4},\\nOdd Count is{3} \".format(positive,\n",
    "zero_count,\n",
    "negative,\n",
    "odd_count,\n",
    "even_count))"
   ]
  },
  {
   "cell_type": "markdown",
   "id": "452555ae",
   "metadata": {},
   "source": [
    "### 4.Take 10 integer inputs from user and store them in a list. Now, copy all the elements in another list but in reverse order."
   ]
  },
  {
   "cell_type": "code",
   "execution_count": 15,
   "id": "0702c5f7",
   "metadata": {},
   "outputs": [
    {
     "name": "stdout",
     "output_type": "stream",
     "text": [
      "Enter the 10 numbers : \n",
      "1 2 3 4 5 6 7 8 9 10\n"
     ]
    }
   ],
   "source": [
    "num_ls=userInput(10)\n",
    "ls1=[]\n",
    "for i in range(len(num_ls)-1,-1,-1):\n",
    "    ls1.append(num_ls[i])"
   ]
  },
  {
   "cell_type": "code",
   "execution_count": 16,
   "id": "ab829dc5",
   "metadata": {},
   "outputs": [
    {
     "name": "stdout",
     "output_type": "stream",
     "text": [
      "[10, 9, 8, 7, 6, 5, 4, 3, 2, 1]\n"
     ]
    }
   ],
   "source": [
    "print(ls1)"
   ]
  },
  {
   "cell_type": "markdown",
   "id": "190fc7b4",
   "metadata": {},
   "source": [
    "### 5.Write a program to find the sum of all elements of a list."
   ]
  },
  {
   "cell_type": "code",
   "execution_count": 18,
   "id": "c6402c5a",
   "metadata": {},
   "outputs": [
    {
     "name": "stdout",
     "output_type": "stream",
     "text": [
      "Enter the 10 numbers : \n",
      "1 2 3 4 5 6 7 8 9 10\n",
      "55\n"
     ]
    }
   ],
   "source": [
    "print(sum(userInput()))"
   ]
  },
  {
   "cell_type": "markdown",
   "id": "0fd278d1",
   "metadata": {},
   "source": [
    "### 6.Write a program to find the product of all elements of a list."
   ]
  },
  {
   "cell_type": "code",
   "execution_count": 19,
   "id": "be677e6e",
   "metadata": {},
   "outputs": [
    {
     "name": "stdout",
     "output_type": "stream",
     "text": [
      "Enter the 10 numbers : \n",
      "1 2 3 4 5\n",
      "120\n"
     ]
    }
   ],
   "source": [
    "ls=userInput()\n",
    "prodt=1\n",
    "for i in ls:\n",
    "    prodt*=i\n",
    "print(prodt)"
   ]
  },
  {
   "cell_type": "markdown",
   "id": "b7e5c0b2",
   "metadata": {},
   "source": [
    "### 7.Initialize and print each element in new line of a list inside list."
   ]
  },
  {
   "cell_type": "code",
   "execution_count": 20,
   "id": "1e864258",
   "metadata": {},
   "outputs": [
    {
     "name": "stdout",
     "output_type": "stream",
     "text": [
      "1 3 4 \n",
      "2 5 7 \n"
     ]
    }
   ],
   "source": [
    "a = [[1, 3, 4], [2, 5, 7]]\n",
    "for i in a:\n",
    "    for j in i:\n",
    "        print(j, end = ' ')\n",
    "    print('',sep='\\n')"
   ]
  },
  {
   "cell_type": "markdown",
   "id": "bc7cf55d",
   "metadata": {},
   "source": [
    "### 8.Find largest and smallest elements of a list."
   ]
  },
  {
   "cell_type": "code",
   "execution_count": 21,
   "id": "7ac6cf9a",
   "metadata": {},
   "outputs": [
    {
     "name": "stdout",
     "output_type": "stream",
     "text": [
      "Smallest Element is :  1\n",
      "Largest Element is :  5\n"
     ]
    }
   ],
   "source": [
    "ls=[1,2 ,3,4,5]\n",
    "print(\"Smallest Element is : \",min(ls))\n",
    "print(\"Largest Element is : \",max(ls))"
   ]
  },
  {
   "cell_type": "markdown",
   "id": "c2d0b695",
   "metadata": {},
   "source": [
    "### 9.Write a program to print sum, average of all numbers, smallest and largest element of a list."
   ]
  },
  {
   "cell_type": "code",
   "execution_count": 23,
   "id": "f92f4460",
   "metadata": {},
   "outputs": [
    {
     "name": "stdout",
     "output_type": "stream",
     "text": [
      "Sum : 45\n",
      "Average:  5.0\n",
      "Smallest Element is :  1\n",
      "Largest Element is :  9\n"
     ]
    }
   ],
   "source": [
    "ls=[1,2,3,4,5,6,7,8,9]\n",
    "print(\"Sum :\",sum(ls))\n",
    "print(\"Average: \",sum(ls)/len(ls))\n",
    "print(\"Smallest Element is : \",min(ls))\n",
    "print(\"Largest Element is : \",max(ls))"
   ]
  },
  {
   "cell_type": "markdown",
   "id": "b451bd01",
   "metadata": {},
   "source": [
    "### 10.Write a program to check if elements of a list are same or not it read from front or back. E.g.-\n",
    "2\t3\t15\t15\t3\t2"
   ]
  },
  {
   "cell_type": "code",
   "execution_count": 36,
   "id": "c332c2c3",
   "metadata": {},
   "outputs": [
    {
     "name": "stdout",
     "output_type": "stream",
     "text": [
      "Same\n"
     ]
    }
   ],
   "source": [
    "ls=[2, 3, 15, 15, 3, 2]\n",
    "mid_pos=int(len(ls)/2)\n",
    "first_half=ls[:mid_pos]\n",
    "half_list=ls[mid_pos:]\n",
    "count=0\n",
    "for i in half_list:\n",
    "    if i in first_half:\n",
    "        count+=1\n",
    "if count==len(half_list):\n",
    "    print(\"Same\")\n",
    "else:\n",
    "    print(\"Not same\")"
   ]
  },
  {
   "cell_type": "markdown",
   "id": "de7529c9",
   "metadata": {},
   "source": [
    "### 11.Take a list of 10 elements. Split it into middle and store the elements in two dfferent lists. E.g.-\n",
    "INITIAL list :\n",
    "58\t24\t13\t15\t63\t9\t8\t81\t1\t78"
   ]
  },
  {
   "cell_type": "code",
   "execution_count": 37,
   "id": "cdd6fe11",
   "metadata": {},
   "outputs": [
    {
     "name": "stdout",
     "output_type": "stream",
     "text": [
      "[58, 24, 13, 15, 63]\n",
      "[9, 8, 81, 1, 78]\n"
     ]
    }
   ],
   "source": [
    "ls=[ 58, 24, 13, 15, 63, 9, 8, 81, 1, 78]\n",
    "mid_pos=int(len(ls)/2)\n",
    "first_half=ls[:mid_pos]\n",
    "half_list=ls[mid_pos:]\n",
    "print(first_half)\n",
    "print(half_list)"
   ]
  },
  {
   "cell_type": "markdown",
   "id": "cf0dd09a",
   "metadata": {},
   "source": [
    "### 12.Ask user to give integer inputs to make a list. Store only even values given and print the list."
   ]
  },
  {
   "cell_type": "code",
   "execution_count": 39,
   "id": "c2cd1ba8",
   "metadata": {},
   "outputs": [
    {
     "name": "stdout",
     "output_type": "stream",
     "text": [
      "Enter 5 number\n",
      "1\n",
      "2\n",
      "3\n",
      "4\n",
      "5\n"
     ]
    }
   ],
   "source": [
    "ls1=[]\n",
    "print(\"Enter 5 number\")\n",
    "for i in range(0,5):\n",
    "    ip=int(input())\n",
    "    if ip%2==0:\n",
    "        ls1.append(ip)\n",
    "        "
   ]
  },
  {
   "cell_type": "code",
   "execution_count": 41,
   "id": "6062e5ba",
   "metadata": {},
   "outputs": [
    {
     "name": "stdout",
     "output_type": "stream",
     "text": [
      "[2, 4]\n"
     ]
    }
   ],
   "source": [
    "print(ls1)"
   ]
  },
  {
   "cell_type": "code",
   "execution_count": null,
   "id": "cae260df",
   "metadata": {},
   "outputs": [],
   "source": []
  }
 ],
 "metadata": {
  "kernelspec": {
   "display_name": "Python 3 (ipykernel)",
   "language": "python",
   "name": "python3"
  },
  "language_info": {
   "codemirror_mode": {
    "name": "ipython",
    "version": 3
   },
   "file_extension": ".py",
   "mimetype": "text/x-python",
   "name": "python",
   "nbconvert_exporter": "python",
   "pygments_lexer": "ipython3",
   "version": "3.9.12"
  }
 },
 "nbformat": 4,
 "nbformat_minor": 5
}
