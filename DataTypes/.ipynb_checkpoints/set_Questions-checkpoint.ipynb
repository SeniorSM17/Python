{
 "cells": [
  {
   "cell_type": "markdown",
   "id": "0cf88606",
   "metadata": {},
   "source": [
    "# 1.  Add a list of elements to a given set\n"
   ]
  },
  {
   "cell_type": "code",
   "execution_count": 26,
   "id": "2c8f806d",
   "metadata": {},
   "outputs": [
    {
     "name": "stdout",
     "output_type": "stream",
     "text": [
      "{1, 2, 3, 4, 10, 50, 20}\n"
     ]
    }
   ],
   "source": [
    "ls=[1,2,3,4]\n",
    "sets=set({10,20,50})\n",
    "for i in ls:\n",
    "    sets.add(i)\n",
    "print(sets)"
   ]
  },
  {
   "cell_type": "code",
   "execution_count": 27,
   "id": "ff5a5d6e",
   "metadata": {},
   "outputs": [
    {
     "name": "stdout",
     "output_type": "stream",
     "text": [
      "{'Orange', 'Yellow', 'Green', 'Black', 'Red', 'Blue'}\n"
     ]
    }
   ],
   "source": [
    "sample_set = {\"Yellow\", \"Orange\", \"Black\"}\n",
    "sample_list = [\"Blue\", \"Green\", \"Red\"]\n",
    "\n",
    "sample_set.update(sample_list)\n",
    "print(sample_set)"
   ]
  },
  {
   "cell_type": "markdown",
   "id": "089042fa",
   "metadata": {},
   "source": [
    "# 2. Return a set of identical items from a given two Python SETS\n"
   ]
  },
  {
   "cell_type": "code",
   "execution_count": 11,
   "id": "3f9f7868",
   "metadata": {},
   "outputs": [
    {
     "name": "stdout",
     "output_type": "stream",
     "text": [
      "{3, 4, 5}\n"
     ]
    }
   ],
   "source": [
    "set1={1,2,3,4,5}\n",
    "set2={3,4,5,6,7,8,9}\n",
    "set3=set()\n",
    "for i in set1.intersection(set2):\n",
    "    set3.add(i)\n",
    "print(set3)"
   ]
  },
  {
   "cell_type": "code",
   "execution_count": 28,
   "id": "7b4ec978",
   "metadata": {},
   "outputs": [
    {
     "name": "stdout",
     "output_type": "stream",
     "text": [
      "{40, 50, 30}\n"
     ]
    }
   ],
   "source": [
    "set1 = {10, 20, 30, 40, 50}\n",
    "set2 = {30, 40, 50, 60, 70}\n",
    "\n",
    "print(set1.intersection(set2))"
   ]
  },
  {
   "cell_type": "markdown",
   "id": "5a6756e6",
   "metadata": {},
   "source": [
    "# 3.Returns a new set with all items from both sets by removing duplicates\n"
   ]
  },
  {
   "cell_type": "code",
   "execution_count": 29,
   "id": "4f4befb7",
   "metadata": {},
   "outputs": [
    {
     "name": "stdout",
     "output_type": "stream",
     "text": [
      "{70, 40, 10, 50, 20, 60, 30}\n"
     ]
    }
   ],
   "source": [
    "set1 = {10, 20, 30, 40, 50}\n",
    "set2 = {30, 40, 50, 60, 70}\n",
    "\n",
    "print(set1.union(set2))"
   ]
  },
  {
   "cell_type": "markdown",
   "id": "a4cfb542",
   "metadata": {},
   "source": [
    "# 4.Given two Python sets, update first set with items that exist only in the first set and not in the second set.\n"
   ]
  },
  {
   "cell_type": "code",
   "execution_count": 33,
   "id": "d1f60015",
   "metadata": {},
   "outputs": [
    {
     "name": "stdout",
     "output_type": "stream",
     "text": [
      "{'MERC', 'AUDI', 'BMW', 'HYUNDIA', 'TATA MOTOTRS'}\n"
     ]
    }
   ],
   "source": [
    "set1={\"BMW\",\"AUDI\",\"MERC\",\"MARUTI\",\"HYUNDIA\",\"KIA\",\"TATA MOTOTRS\"}\n",
    "set2={\"KIA\",\"MARUTI\"}\n",
    "for i in set2:\n",
    "    if i in set1:\n",
    "        set1.remove(i)\n",
    "print(set1)\n"
   ]
  },
  {
   "cell_type": "code",
   "execution_count": 31,
   "id": "a65bfa99",
   "metadata": {},
   "outputs": [
    {
     "name": "stdout",
     "output_type": "stream",
     "text": [
      "{10, 30}\n"
     ]
    }
   ],
   "source": [
    "set1 = {10, 20, 30}\n",
    "set2 = {20, 40, 50}\n",
    "\n",
    "set1.difference_update(set2)\n",
    "print(set1)"
   ]
  },
  {
   "cell_type": "code",
   "execution_count": 23,
   "id": "3e465071",
   "metadata": {},
   "outputs": [
    {
     "name": "stdout",
     "output_type": "stream",
     "text": [
      "{'MERC', 'AUDI', 'BMW', 'HYUNDIA', 'TATA MOTOTRS'}\n"
     ]
    }
   ],
   "source": [
    "set1={\"BMW\",\"AUDI\",\"MERC\",\"MARUTI\",\"HYUNDIA\",\"KIA\",\"TATA MOTOTRS\"}\n",
    "set2={\"KIA\",\"MARUTI\"}\n",
    "for i in set2:\n",
    "    if i in set1:\n",
    "        set1.discard(i)\n",
    "print(set1)"
   ]
  },
  {
   "cell_type": "markdown",
   "id": "356fbfb6",
   "metadata": {},
   "source": [
    "# 5.Remove 10, 20, 30 elements from a following set at once\n"
   ]
  },
  {
   "cell_type": "code",
   "execution_count": 24,
   "id": "be8874c9",
   "metadata": {},
   "outputs": [
    {
     "name": "stdout",
     "output_type": "stream",
     "text": [
      "{'MERC', 'AUDI', 40, 'HYUNDIA', 'MARUTI', 'KIA', 50, 'BMW', 'TATA MOTOTRS'}\n"
     ]
    }
   ],
   "source": [
    "set1=set1={\"BMW\",\"AUDI\",\"MERC\",\"MARUTI\",\"HYUNDIA\",\"KIA\",\"TATA MOTOTRS\",10,20,30,40,50}\n",
    "set2={10, 20, 30}\n",
    "result=set1-set2\n",
    "print(result)"
   ]
  },
  {
   "cell_type": "code",
   "execution_count": 34,
   "id": "43794a1e",
   "metadata": {},
   "outputs": [
    {
     "name": "stdout",
     "output_type": "stream",
     "text": [
      "{50, 40}\n"
     ]
    }
   ],
   "source": [
    "set1 = {10, 20, 30, 40, 50}\n",
    "set1.difference_update({10, 20, 30})\n",
    "print(set1)"
   ]
  },
  {
   "cell_type": "markdown",
   "id": "c9f92dbf",
   "metadata": {},
   "source": [
    "# 6.Return a set of all elements in either A or B, but not both\n"
   ]
  },
  {
   "cell_type": "code",
   "execution_count": 35,
   "id": "ad1589f3",
   "metadata": {},
   "outputs": [
    {
     "name": "stdout",
     "output_type": "stream",
     "text": [
      "{'MERC', 'AUDI', 'HYUNDIA', 'BMW', 'TATA MOTOTRS'}\n"
     ]
    }
   ],
   "source": [
    "set1={\"BMW\",\"AUDI\",\"MERC\",\"MARUTI\",\"HYUNDIA\",\"KIA\",\"TATA MOTOTRS\"}\n",
    "set2={\"KIA\",\"MARUTI\"}\n",
    "\n",
    "print(set1.symmetric_difference(set2))"
   ]
  },
  {
   "cell_type": "markdown",
   "id": "926700b6",
   "metadata": {},
   "source": [
    "# 7.Determines whether or not the following two sets have any elements in common. If yes display the common elements\n"
   ]
  },
  {
   "cell_type": "code",
   "execution_count": 36,
   "id": "23a960f4",
   "metadata": {},
   "outputs": [
    {
     "name": "stdout",
     "output_type": "stream",
     "text": [
      "Two sets have items in common\n",
      "{'MARUTI', 'KIA'}\n"
     ]
    }
   ],
   "source": [
    "set1={\"BMW\",\"AUDI\",\"MERC\",\"MARUTI\",\"HYUNDIA\",\"KIA\",\"TATA MOTOTRS\"}\n",
    "set2={\"KIA\",\"MARUTI\"}\n",
    "if set1.isdisjoint(set2):\n",
    "    print(\"Two sets have no items in common\")\n",
    "else:\n",
    "    print(\"Two sets have items in common\")\n",
    "    print(set1.intersection(set2))"
   ]
  },
  {
   "cell_type": "markdown",
   "id": "5323eee7",
   "metadata": {},
   "source": [
    "# 8. Update set1 by adding items from set2, except common items\n"
   ]
  },
  {
   "cell_type": "code",
   "execution_count": 37,
   "id": "2b519b3d",
   "metadata": {},
   "outputs": [
    {
     "name": "stdout",
     "output_type": "stream",
     "text": [
      "{'MERC', 'AUDI', 'BMW', 'HYUNDIA', 'TATA MOTOTRS'}\n"
     ]
    }
   ],
   "source": [
    "set1={\"BMW\",\"AUDI\",\"MERC\",\"MARUTI\",\"HYUNDIA\",\"KIA\",\"TATA MOTOTRS\"}\n",
    "set2={\"KIA\",\"MARUTI\"}\n",
    "set1.symmetric_difference_update(set2)\n",
    "print(set1)"
   ]
  },
  {
   "cell_type": "markdown",
   "id": "aa6bbf9c",
   "metadata": {},
   "source": [
    "# 9. Remove items from set1 that are not common to both set1 and set2\n"
   ]
  },
  {
   "cell_type": "code",
   "execution_count": 38,
   "id": "e00114ba",
   "metadata": {},
   "outputs": [
    {
     "name": "stdout",
     "output_type": "stream",
     "text": [
      "{'MARUTI', 'KIA'}\n"
     ]
    }
   ],
   "source": [
    "set1={\"BMW\",\"AUDI\",\"MERC\",\"MARUTI\",\"HYUNDIA\",\"KIA\",\"TATA MOTOTRS\"}\n",
    "set2={\"KIA\",\"MARUTI\"}\n",
    "set1.intersection_update(set2)\n",
    "print(set1)"
   ]
  },
  {
   "cell_type": "markdown",
   "id": "d23fb55f",
   "metadata": {},
   "source": [
    "# 10.Write a Python program to check if a given set is superset of itself and superset of another given set\n"
   ]
  },
  {
   "cell_type": "code",
   "execution_count": 42,
   "id": "a6c3184b",
   "metadata": {},
   "outputs": [
    {
     "name": "stdout",
     "output_type": "stream",
     "text": [
      "Original set:  {'MERC', 'AUDI', 'BMW', 'MARUTI', 'HYUNDIA', 'TATA MOTOTRS', 'KIA'}\n",
      "If set1 is superset of itself?\n",
      "True\n",
      "True\n"
     ]
    }
   ],
   "source": [
    "set1={\"BMW\",\"AUDI\",\"MERC\",\"MARUTI\",\"HYUNDIA\",\"KIA\",\"TATA MOTOTRS\"}\n",
    "print(\"Original set: \",set1)\n",
    "print(\"If set1 is superset of itself?\")\n",
    "print(set1.issuperset(set1))\n",
    "set2={\"KIA\",\"MARUTI\"}\n",
    "\n",
    "print(set1.issuperset(set2))"
   ]
  },
  {
   "cell_type": "markdown",
   "id": "3f0b7e7b",
   "metadata": {},
   "source": [
    "# 11.Write a Python program to check a given set has no elements in common with other given set\n"
   ]
  },
  {
   "cell_type": "code",
   "execution_count": 48,
   "id": "fae24561",
   "metadata": {},
   "outputs": [
    {
     "name": "stdout",
     "output_type": "stream",
     "text": [
      "False\n",
      "True\n"
     ]
    }
   ],
   "source": [
    "set1={\"BMW\",\"AUDI\",\"MERC\",\"HYUNDIA\",\"TATA MOTOTRS\",\"MARUTI\"}\n",
    "set2={\"KIA\",\"MARUTI\"}\n",
    "set3={\"Ferrari\"}\n",
    "print(set1.isdisjoint(set2))\n",
    "print(set1.isdisjoint(set3))"
   ]
  },
  {
   "cell_type": "markdown",
   "id": "2f12b43e",
   "metadata": {},
   "source": [
    "# 12.Write a Python program to remove the intersection of a 2nd set from the 1st set.\n"
   ]
  },
  {
   "cell_type": "code",
   "execution_count": 50,
   "id": "7aeb05ec",
   "metadata": {},
   "outputs": [
    {
     "name": "stdout",
     "output_type": "stream",
     "text": [
      "\n",
      "Remove the intersection of a 2nd set from the 1st set using difference_update():\n",
      "{'MERC', 'AUDI', 'BMW', 'HYUNDIA', 'TATA MOTOTRS'}\n"
     ]
    }
   ],
   "source": [
    "set1={\"BMW\",\"AUDI\",\"MERC\",\"MARUTI\",\"HYUNDIA\",\"KIA\",\"TATA MOTOTRS\"}\n",
    "set2={\"KIA\",\"MARUTI\"}\n",
    "print(\"\\nRemove the intersection of a 2nd set from the 1st set using difference_update():\")\n",
    "set1.difference_update(set2)\n",
    "print(set1)"
   ]
  },
  {
   "cell_type": "markdown",
   "id": "bba90260",
   "metadata": {},
   "source": [
    "# 13. Perform all sets methods by taking an example of your own."
   ]
  },
  {
   "cell_type": "code",
   "execution_count": 51,
   "id": "471055f8",
   "metadata": {},
   "outputs": [],
   "source": [
    "#Check File Named ->  Data Types Function -2 \n",
    "#In same folder"
   ]
  }
 ],
 "metadata": {
  "kernelspec": {
   "display_name": "Python 3 (ipykernel)",
   "language": "python",
   "name": "python3"
  },
  "language_info": {
   "codemirror_mode": {
    "name": "ipython",
    "version": 3
   },
   "file_extension": ".py",
   "mimetype": "text/x-python",
   "name": "python",
   "nbconvert_exporter": "python",
   "pygments_lexer": "ipython3",
   "version": "3.9.12"
  }
 },
 "nbformat": 4,
 "nbformat_minor": 5
}
