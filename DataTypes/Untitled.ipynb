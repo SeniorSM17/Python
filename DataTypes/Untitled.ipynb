{
 "cells": [
  {
   "cell_type": "code",
   "execution_count": 1,
   "id": "11fac23d",
   "metadata": {},
   "outputs": [
    {
     "name": "stdout",
     "output_type": "stream",
     "text": [
      "Enter the string: HI\n",
      "same identity\n"
     ]
    }
   ],
   "source": [
    "#1. How would you confirm that 2 strings have the same identity?\n",
    "st2=input(\"Enter the string: \")\n",
    "st1=st2\n",
    "if st1 is st2:\n",
    "    print(\"same identity\")"
   ]
  },
  {
   "cell_type": "code",
   "execution_count": 2,
   "id": "4f17c273",
   "metadata": {},
   "outputs": [
    {
     "name": "stdout",
     "output_type": "stream",
     "text": [
      "Enter the string: Abhbhdbf Abhhbdhb Anhjbhdbf\n",
      "each word in a string begins with a capital letter\n"
     ]
    }
   ],
   "source": [
    "#2. How would you check if each word in a string begins with a capital letter?\n",
    "\n",
    "st1=input(\"Enter the string: \")\n",
    "ls=list(st1.split(\" \"))\n",
    "c=0\n",
    "for i in ls:\n",
    "    if i[0].isupper():\n",
    "        c+=1\n",
    "    else:\n",
    "        c=0\n",
    "if len(ls) == c:\n",
    "    print(\"each word in a string begins with a capital letter\")\n",
    "else:\n",
    "    print(\"each word in a string DOES NOT begins with a capital letter\")"
   ]
  },
  {
   "cell_type": "code",
   "execution_count": 3,
   "id": "362ae363",
   "metadata": {},
   "outputs": [
    {
     "name": "stdout",
     "output_type": "stream",
     "text": [
      "Enter the StringABCD\n",
      "Enter the Substringcd\n",
      "Yes Substring is Present\n"
     ]
    }
   ],
   "source": [
    "#3. Check if a string contains a specific substring\n",
    "st1= input(\"Enter the String\").strip()\n",
    "sub_string=input(\"Enter the Substring\").strip()\n",
    "\n",
    "if sub_string.lower() in st1.lower():\n",
    "    print(\"Yes Substring is Present\")\n",
    "else:\n",
    "    print(\"No Substring is not present\")"
   ]
  },
  {
   "cell_type": "code",
   "execution_count": 4,
   "id": "1ffa84fb",
   "metadata": {},
   "outputs": [
    {
     "name": "stdout",
     "output_type": "stream",
     "text": [
      "Enter the StringHello my name is SM\n",
      "Enter the Substring  SM\n",
      "Found at position:  17\n"
     ]
    }
   ],
   "source": [
    "#4. Find the index of the first occurrence of a substring in a string\n",
    "\n",
    "st1= input(\"Enter the String\").strip()\n",
    "sub_string=input(\"Enter the Substring\").strip()\n",
    "\n",
    "if st1.find(sub_string) !=-1:\n",
    "    print('Found at position: ',st1.find(sub_string))\n",
    "else:\n",
    "    print(\"Not in String\")\n",
    "    "
   ]
  },
  {
   "cell_type": "code",
   "execution_count": 5,
   "id": "73bbd365",
   "metadata": {},
   "outputs": [
    {
     "name": "stdout",
     "output_type": "stream",
     "text": [
      "Enter the Stringagasg g dygdy\n",
      "13\n"
     ]
    }
   ],
   "source": [
    "#5. Count the total number of characters in a string\n",
    "\n",
    "print(len(input(\"Enter the String\").strip()))"
   ]
  },
  {
   "cell_type": "code",
   "execution_count": 6,
   "id": "50439533",
   "metadata": {},
   "outputs": [
    {
     "name": "stdout",
     "output_type": "stream",
     "text": [
      "Enter the String  asdasdasdasdf\n",
      "Enter the Character   a\n",
      "4\n"
     ]
    }
   ],
   "source": [
    "#6. Count the number of a specific character in a string\n",
    "print(input(\"Enter the String \").strip().count(input(\"Enter the Character \").strip()))\n"
   ]
  },
  {
   "cell_type": "code",
   "execution_count": 7,
   "id": "050a5a72",
   "metadata": {},
   "outputs": [
    {
     "name": "stdout",
     "output_type": "stream",
     "text": [
      "Enter the String hihishj jshd \n",
      "Hihishj jshd\n"
     ]
    }
   ],
   "source": [
    "#7. Capitalize the first character of a string\n",
    "print(input(\"Enter the String \").strip().capitalize())"
   ]
  },
  {
   "cell_type": "code",
   "execution_count": 8,
   "id": "0a9f4a09",
   "metadata": {},
   "outputs": [
    {
     "name": "stdout",
     "output_type": "stream",
     "text": [
      "Enter the name SM\n",
      "Enter the name of company OJAS\n",
      "Hi my name is SM and work in OJAS\n"
     ]
    }
   ],
   "source": [
    "#8. What is an f-string and how do you use it?\n",
    "\n",
    "# Using f-strings is similar to using format().\n",
    "# F-strings are denoted by an f before the opening quote.\n",
    "\n",
    "name=input(\"Enter the name \")\n",
    "company=input(\"Enter the name of company \")\n",
    "print(f'Hi my name is {name} and work in {company}')\n"
   ]
  },
  {
   "cell_type": "code",
   "execution_count": 9,
   "id": "c8a34e11",
   "metadata": {},
   "outputs": [
    {
     "data": {
      "text/plain": [
       "23"
      ]
     },
     "execution_count": 9,
     "metadata": {},
     "output_type": "execute_result"
    }
   ],
   "source": [
    "#9. Search a specific part of a string for a substring\n",
    "f'the happiest person in the whole wide world.'.index('the',10,44)"
   ]
  },
  {
   "cell_type": "code",
   "execution_count": 10,
   "id": "bee82802",
   "metadata": {},
   "outputs": [
    {
     "name": "stdout",
     "output_type": "stream",
     "text": [
      "Enter the name  SJ\n",
      "Enter the name of company  ABC\n",
      "Hi my name is  SJ and work in  ABC\n"
     ]
    }
   ],
   "source": [
    "#10. Interpolate a variable into a string using format()\n",
    "name=input(\"Enter the name \")\n",
    "company=input(\"Enter the name of company \")\n",
    "print(f'Hi my name is {name} and work in {company}')\n"
   ]
  },
  {
   "cell_type": "code",
   "execution_count": 11,
   "id": "4fd52f8a",
   "metadata": {},
   "outputs": [
    {
     "name": "stdout",
     "output_type": "stream",
     "text": [
      "Enter the numnber12345678\n",
      "Yes\n"
     ]
    }
   ],
   "source": [
    "#11. Check if a string contains only numbers\n",
    "str1=input(\"Enter the numnber\")\n",
    "if str1.isnumeric():\n",
    "    print(\"Yes\")\n",
    "else:\n",
    "    print(\"NO\")"
   ]
  },
  {
   "cell_type": "code",
   "execution_count": 12,
   "id": "dc01ea10",
   "metadata": {},
   "outputs": [
    {
     "name": "stdout",
     "output_type": "stream",
     "text": [
      "Enter the StringHello World How are you\n",
      "['Hello', 'World', 'How', 'are', 'you']\n"
     ]
    }
   ],
   "source": [
    "#12. Split a string on a specific character\n",
    "str1=input(\"Enter the String\")\n",
    "print(str1.split(\" \"))"
   ]
  },
  {
   "cell_type": "code",
   "execution_count": 13,
   "id": "b2a56dac",
   "metadata": {},
   "outputs": [
    {
     "name": "stdout",
     "output_type": "stream",
     "text": [
      "Enter the Stringasdfghjk sdfghj fghxdcfvg dfg\n",
      "Yes\n"
     ]
    }
   ],
   "source": [
    "#13. Check if a string is composed of all lower case characters\n",
    "str1=input(\"Enter the String\")\n",
    "if str1.islower():\n",
    "    print(\"Yes\")\n",
    "else:\n",
    "    print(\"No\")"
   ]
  },
  {
   "cell_type": "code",
   "execution_count": 16,
   "id": "b951c52a",
   "metadata": {},
   "outputs": [
    {
     "name": "stdout",
     "output_type": "stream",
     "text": [
      "Enter the String  hI\n",
      "True\n"
     ]
    }
   ],
   "source": [
    "#14. Check if the first character in a string is lowercase\n",
    "print(input(\"Enter the String\").strip()[0].islower())"
   ]
  },
  {
   "cell_type": "raw",
   "id": "067ea03d",
   "metadata": {},
   "source": [
    "#15. Can an integer be added to a string in Python?\n",
    "No\n",
    "It throw an error => TypeErroe"
   ]
  },
  {
   "cell_type": "code",
   "execution_count": 17,
   "id": "ffd75ac7",
   "metadata": {},
   "outputs": [
    {
     "name": "stdout",
     "output_type": "stream",
     "text": [
      "dlroW olleH\n"
     ]
    }
   ],
   "source": [
    "#16. Reverse the string “hello world”\n",
    "print('Hello World'[::-1])"
   ]
  },
  {
   "cell_type": "code",
   "execution_count": 21,
   "id": "fec33a76",
   "metadata": {},
   "outputs": [
    {
     "name": "stdout",
     "output_type": "stream",
     "text": [
      "Enter the String Hello WOrld\n",
      "Hello-WOrld\n"
     ]
    }
   ],
   "source": [
    "#17. Join a list of strings into a single string, delimited by hyphens\n",
    "\n",
    "print(\"-\".join(input(\"Enter the String\").strip().split(\" \")))"
   ]
  },
  {
   "cell_type": "code",
   "execution_count": 22,
   "id": "8b2994b9",
   "metadata": {},
   "outputs": [
    {
     "name": "stdout",
     "output_type": "stream",
     "text": [
      "True\n"
     ]
    }
   ],
   "source": [
    "#18. Check if all characters in a string conform to ASCI\n",
    "print(\"HELLO\".isascii())"
   ]
  },
  {
   "cell_type": "code",
   "execution_count": 25,
   "id": "4228bd17",
   "metadata": {},
   "outputs": [
    {
     "name": "stdout",
     "output_type": "stream",
     "text": [
      "Enter the String asdghjkl ASDFGHJK\n",
      " ASDGHJKL ASDFGHJK \n",
      "  asdghjkl asdfghjk\n"
     ]
    }
   ],
   "source": [
    "#19. Uppercase or lowercase an entire string\n",
    "str1=input(\"Enter the String\")\n",
    "print(str1.upper(),\"\\n\",str1.lower())"
   ]
  },
  {
   "cell_type": "code",
   "execution_count": 28,
   "id": "819f59e4",
   "metadata": {},
   "outputs": [
    {
     "name": "stdout",
     "output_type": "stream",
     "text": [
      "Enter the Stringshubham\n",
      "ShubhaM\n"
     ]
    }
   ],
   "source": [
    "#20. Uppercase first and last character of a string\n",
    "str1=input(\"Enter the String\").strip()\n",
    "print(str1[0].upper()+str1[1:-1]+str1[-1].upper())\n"
   ]
  },
  {
   "cell_type": "code",
   "execution_count": 30,
   "id": "c915f2bb",
   "metadata": {},
   "outputs": [
    {
     "name": "stdout",
     "output_type": "stream",
     "text": [
      "Enter the StringASDFGHJKL\n",
      "True\n"
     ]
    }
   ],
   "source": [
    "#21. Check if a string is all uppercase\n",
    "str1=input(\"Enter the String\").strip()\n",
    "print(str1.isupper())"
   ]
  },
  {
   "cell_type": "code",
   "execution_count": 32,
   "id": "a4970a83",
   "metadata": {},
   "outputs": [
    {
     "name": "stdout",
     "output_type": "stream",
     "text": [
      "['It was a stormy night', 'The house creeked', 'The wind blew.']\n"
     ]
    }
   ],
   "source": [
    "#22. When would you use splitlines()?\n",
    "#splitlines() splits a string on line breaks.\n",
    "sentence = \"It was a stormy night\\nThe house creeked\\nThe wind blew.\"\n",
    "print(sentence.splitlines())"
   ]
  },
  {
   "cell_type": "code",
   "execution_count": 34,
   "id": "9a75c8dd",
   "metadata": {},
   "outputs": [
    {
     "name": "stdout",
     "output_type": "stream",
     "text": [
      "HeHe\n"
     ]
    }
   ],
   "source": [
    "#23. Give an example of string slicing\n",
    "print(\"Hello\"[0:2]*2)"
   ]
  },
  {
   "cell_type": "code",
   "execution_count": 35,
   "id": "09172057",
   "metadata": {},
   "outputs": [
    {
     "name": "stdout",
     "output_type": "stream",
     "text": [
      "Enter the Integer Value456\n",
      "456 <class 'int'>\n",
      "456 <class 'str'>\n"
     ]
    }
   ],
   "source": [
    "#24. Convert an integer to a string\n",
    "num=int(input(\"Enter the Integer Value\"))\n",
    "print(num,type(num))\n",
    "st1=str(num)\n",
    "print(st1,type(st1))"
   ]
  },
  {
   "cell_type": "code",
   "execution_count": 37,
   "id": "79178635",
   "metadata": {},
   "outputs": [
    {
     "name": "stdout",
     "output_type": "stream",
     "text": [
      "False\n",
      "True\n"
     ]
    }
   ],
   "source": [
    "#25. Check if a string contains only characters of the alphabet\n",
    "print('One1'.isalpha())\n",
    "print('One'.isalpha())"
   ]
  },
  {
   "cell_type": "code",
   "execution_count": 38,
   "id": "5c200c29",
   "metadata": {},
   "outputs": [
    {
     "name": "stdout",
     "output_type": "stream",
     "text": [
      "Bello\n"
     ]
    }
   ],
   "source": [
    "#26. Replace all instances of a substring in a string\n",
    "print(\"Hello\".replace(\"H\",\"B\"))"
   ]
  },
  {
   "cell_type": "code",
   "execution_count": 40,
   "id": "72fb3a3b",
   "metadata": {},
   "outputs": [
    {
     "data": {
      "text/plain": [
       "'E'"
      ]
     },
     "execution_count": 40,
     "metadata": {},
     "output_type": "execute_result"
    }
   ],
   "source": [
    "#27. Return the minimum character in a string\n",
    "min('HELLO') "
   ]
  },
  {
   "cell_type": "code",
   "execution_count": 42,
   "id": "f0bc35b4",
   "metadata": {},
   "outputs": [
    {
     "name": "stdout",
     "output_type": "stream",
     "text": [
      "True\n"
     ]
    }
   ],
   "source": [
    "#28. Check if all characters in a string are alphanumeric\n",
    "print('Ten10'.isalnum())"
   ]
  },
  {
   "cell_type": "code",
   "execution_count": 1,
   "id": "d363c6ef",
   "metadata": {},
   "outputs": [
    {
     "name": "stdout",
     "output_type": "stream",
     "text": [
      "         Hello           \n",
      "Hello\n"
     ]
    }
   ],
   "source": [
    "#29 Remove whitespaces from the left,right ot both sides of the strings\n",
    "str1=\"         Hello           \"\n",
    "print(str1)\n",
    "print(str1.strip())"
   ]
  },
  {
   "cell_type": "code",
   "execution_count": 2,
   "id": "c0332674",
   "metadata": {},
   "outputs": [
    {
     "name": "stdout",
     "output_type": "stream",
     "text": [
      "True\n",
      "True\n"
     ]
    }
   ],
   "source": [
    "#30 Check if string begains with or ends with a specific charater\n",
    "\n",
    "name= \"SHUBHAM MITKARY\"\n",
    "print(name.startswith(\"SHUBHAM\"))\n",
    "print(name.endswith(\"MITKARY\"))"
   ]
  },
  {
   "cell_type": "code",
   "execution_count": null,
   "id": "6f80c59f",
   "metadata": {},
   "outputs": [],
   "source": []
  }
 ],
 "metadata": {
  "kernelspec": {
   "display_name": "Python 3 (ipykernel)",
   "language": "python",
   "name": "python3"
  },
  "language_info": {
   "codemirror_mode": {
    "name": "ipython",
    "version": 3
   },
   "file_extension": ".py",
   "mimetype": "text/x-python",
   "name": "python",
   "nbconvert_exporter": "python",
   "pygments_lexer": "ipython3",
   "version": "3.9.12"
  }
 },
 "nbformat": 4,
 "nbformat_minor": 5
}
