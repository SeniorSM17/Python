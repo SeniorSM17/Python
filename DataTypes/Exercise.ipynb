{
 "cells": [
  {
   "cell_type": "code",
   "execution_count": null,
   "id": "dd6a6164",
   "metadata": {},
   "outputs": [],
   "source": [
    "1.what is a variable in and describe the role of variable in python memory management?\n",
    "2.what are the advantages and disadvantages of type casting?\n",
    "3.what is the difference between while loop and for loop?\n",
    "4.write 5 string method with example?\n",
    "5.write the Precedence rule of python with example?"
   ]
  },
  {
   "cell_type": "code",
   "execution_count": null,
   "id": "6f6250da",
   "metadata": {},
   "outputs": [],
   "source": [
    "1.what is a variable in and describe the role of variable in python memory management?\n",
    "\n",
    "Memory management is a process of allocating,deallocating the memory to variables.\n",
    "Memory management is about efficiently utilising the memory , so that others process run smoothly.\n",
    "In python memory management is done automatically done by memory manager.\n",
    "Memory management also involves cleaning memory of object that no longer accessed by any reference.\n",
    "The process of cleaning memory of unreferenced object is called as garbage collection.\n",
    "Python uses Reference Counting algorithm for garbage collection. This algorithm keep track of all references of object. When object is no more referenced by any variable , object is removed by garbage collector.\n",
    "All these process are automated in python, we do not need to worry about memory management.\n"
   ]
  },
  {
   "cell_type": "code",
   "execution_count": null,
   "id": "5dd2a19b",
   "metadata": {},
   "outputs": [],
   "source": [
    "2.what are the advantages and disadvantages of type casting?\n",
    "Advantages Of Typecasting\n",
    "    More convenient to use\n",
    "Disadvantages Of Typecasting\n",
    "    More complex type system\n",
    "    Source of bugs due to unexpected casts"
   ]
  },
  {
   "cell_type": "code",
   "execution_count": null,
   "id": "6f08a7c1",
   "metadata": {},
   "outputs": [],
   "source": [
    "3.what is the difference between while loop and for loop?\n",
    "The for statement iterates through a collection or iterable object or generator function.\n",
    "\n",
    "The while statement simply loops until a condition is False."
   ]
  },
  {
   "cell_type": "code",
   "execution_count": null,
   "id": "42ffff50",
   "metadata": {},
   "outputs": [],
   "source": [
    "4.write 5 string method with example?\n",
    "\n",
    "Method\tDescription\n",
    "capitalize()\tConverts the first character to upper case\n",
    "casefold()\tConverts string into lower case\n",
    "center()\tReturns a centered string\n",
    "count()\tReturns the number of times a specified value occurs in a string\n",
    "encode()\tReturns an encoded version of the string\n",
    "endswith()\tReturns true if the string ends with the specified value\n",
    "expandtabs()\tSets the tab size of the string"
   ]
  },
  {
   "cell_type": "code",
   "execution_count": null,
   "id": "d3901407",
   "metadata": {},
   "outputs": [],
   "source": [
    "5.write the Precedence rule of python with example?\n",
    "Operators\tMeaning\n",
    "()\tParentheses\n",
    "**\tExponent\n",
    "+x, -x, ~x\tUnary plus, Unary minus, Bitwise NOT\n",
    "*, /, //, %\tMultiplication, Division, Floor division, Modulus\n",
    "+, -\tAddition, Subtraction\n",
    "<<, >>\tBitwise shift operators\n",
    "&\tBitwise AND\n",
    "^\tBitwise XOR\n",
    "|\tBitwise OR\n",
    "==, !=, >, >=, <, <=, is, is not, in, not in\tComparisons, Identity, Membership operators\n",
    "not\tLogical NOT\n",
    "and\tLogical AND\n",
    "or\tLogical OR\n",
    "# Parentheses () has higher precedence\n",
    ">>> (10 - 4) * 2\n",
    "12"
   ]
  }
 ],
 "metadata": {
  "kernelspec": {
   "display_name": "Python 3 (ipykernel)",
   "language": "python",
   "name": "python3"
  },
  "language_info": {
   "codemirror_mode": {
    "name": "ipython",
    "version": 3
   },
   "file_extension": ".py",
   "mimetype": "text/x-python",
   "name": "python",
   "nbconvert_exporter": "python",
   "pygments_lexer": "ipython3",
   "version": "3.9.12"
  }
 },
 "nbformat": 4,
 "nbformat_minor": 5
}
