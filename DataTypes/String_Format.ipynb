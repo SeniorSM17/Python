{
 "cells": [
  {
   "cell_type": "code",
   "execution_count": 1,
   "id": "3378c28c",
   "metadata": {},
   "outputs": [
    {
     "name": "stdout",
     "output_type": "stream",
     "text": [
      "******** Integer *********\n",
      "10\n",
      "10 20\n",
      "10\n",
      "10 20\n",
      "20 10\n",
      "10\n",
      "10 20\n",
      "20 10\n"
     ]
    }
   ],
   "source": [
    "print(\"******** Integer *********\") \n",
    "\n",
    "print(\"{}\".format(10))   \n",
    "\n",
    "print(\"{} {}\".format(10, 20)) \n",
    "\n",
    "print(\"{0}\".format(10)) \n",
    "\n",
    "print(\"{0} {1}\".format(10, 20)) \n",
    "\n",
    "print(\"{1} {0}\".format(10, 20)) \n",
    "\n",
    "print(\"{num1}\".format(num1=10)) \n",
    "\n",
    "print(\"{num1} {num2}\".format(num1=10, num2=20)) \n",
    "\n",
    "print(\"{num2} {num1}\".format(num1=10, num2=20)) \n",
    "\n",
    "  "
   ]
  },
  {
   "cell_type": "code",
   "execution_count": 3,
   "id": "d5d2f4be",
   "metadata": {},
   "outputs": [
    {
     "name": "stdout",
     "output_type": "stream",
     "text": [
      "******** Float *********\n",
      "10.56\n",
      "10.56 20.42\n",
      "10.56\n",
      "10.56 20.42\n",
      "20.42 10.56\n",
      "10.56\n",
      "10.56 20.42\n",
      "20.42 10.56\n"
     ]
    }
   ],
   "source": [
    "#Float \n",
    "\n",
    "print(\"******** Float *********\") \n",
    "\n",
    "print(\"{}\".format(10.56)) \n",
    "\n",
    "print(\"{} {}\".format(10.56, 20.42)) \n",
    "\n",
    "print(\"{0}\".format(10.56)) \n",
    "\n",
    "print(\"{0} {1}\".format(10.56, 20.42)) \n",
    "\n",
    "print(\"{1} {0}\".format(10.56, 20.42)) \n",
    "\n",
    "print(\"{num1}\".format(num1=10.56)) \n",
    "\n",
    "print(\"{num1} {num2}\".format(num1=10.56, num2=20.42)) \n",
    "\n",
    "print(\"{num2} {num1}\".format(num1=10.56, num2=20.42)) "
   ]
  },
  {
   "cell_type": "code",
   "execution_count": 4,
   "id": "7b7c8b4e",
   "metadata": {},
   "outputs": [
    {
     "name": "stdout",
     "output_type": "stream",
     "text": [
      "******** String *********\n",
      "apple  \n",
      "apple banana\n",
      "apple\n",
      "apple banana\n",
      "banana apple\n",
      "apple\n",
      "apple banana\n",
      "banana apple\n"
     ]
    }
   ],
   "source": [
    "#String \n",
    "\n",
    "print(\"******** String *********\") \n",
    "\n",
    "print(\"{}\".format(\"apple  \")) \n",
    "\n",
    "print(\"{} {}\".format(\"apple\", \"banana\")) \n",
    "\n",
    "print(\"{0}\".format(\"apple\")) \n",
    "\n",
    "print(\"{0} {1}\".format(\"apple\", \"banana\")) \n",
    "\n",
    "print(\"{1} {0}\".format(\"apple\", \"banana\")) \n",
    "\n",
    "print(\"{str1}\".format(str1=\"apple\")) \n",
    "\n",
    "print(\"{str1} {str2}\".format(str1=\"apple\", str2=\"banana\")) \n",
    "\n",
    "print(\"{str2} {str1}\".format(str1=\"apple\", str2=\"banana\")) "
   ]
  },
  {
   "cell_type": "code",
   "execution_count": 6,
   "id": "60a3c426",
   "metadata": {},
   "outputs": [
    {
     "name": "stdout",
     "output_type": "stream",
     "text": [
      "Hello My Name is SHUBHAM\n",
      "10 banana\n",
      "10 banana\n",
      "banana 10\n",
      "10 banana\n",
      "banana 10\n"
     ]
    }
   ],
   "source": [
    "# Integer and String \n",
    "\n",
    "print(\"Hello My Name is {}\".format(\"SHUBHAM\")) \n",
    "\n",
    "print(\"{} {}\".format(10, \"banana\")) \n",
    "\n",
    "print(\"{0} {1}\".format(10, \"banana\")) \n",
    "\n",
    "print(\"{1} {0}\".format(10, \"banana\")) \n",
    "\n",
    "print(\"{num1} {str1}\".format(num1=10, str1=\"banana\")) \n",
    "\n",
    "print(\"{str1} {num1}\".format(num1=10, str1=\"banana\")) \n",
    "\n",
    "  "
   ]
  },
  {
   "cell_type": "code",
   "execution_count": 7,
   "id": "d1748361",
   "metadata": {},
   "outputs": [
    {
     "name": "stdout",
     "output_type": "stream",
     "text": [
      "1,234,567,890\n"
     ]
    }
   ],
   "source": [
    "#Comma as thousand Separator \n",
    "\n",
    "print(\"{:,}\".format(1234567890)) "
   ]
  },
  {
   "cell_type": "code",
   "execution_count": 8,
   "id": "b0a9fdb7",
   "metadata": {},
   "outputs": [
    {
     "name": "stdout",
     "output_type": "stream",
     "text": [
      "My name is Rahul and age 62\n",
      "1666.67%\n"
     ]
    }
   ],
   "source": [
    "#variable \n",
    "\n",
    "name = \"Rahul\" \n",
    "\n",
    "age= 62 \n",
    "\n",
    "print(\"My name is {} and age {}\".format(name, age)) \n",
    "\n",
    "  \n",
    "# Expressing a Percentage \n",
    "\n",
    "a = 50 \n",
    "\n",
    "b = 3 \n",
    "\n",
    "print(\"{:.2%}\".format(a/b)) "
   ]
  },
  {
   "cell_type": "code",
   "execution_count": 9,
   "id": "acb6a85b",
   "metadata": {},
   "outputs": [
    {
     "name": "stdout",
     "output_type": "stream",
     "text": [
      "10 20\n",
      "2000 3000\n",
      "2000 3000\n",
      "2000 3000\n"
     ]
    }
   ],
   "source": [
    "# Accessing arguments� items \n",
    "\n",
    "value = (10, 20) \n",
    "\n",
    "print(\"{0[0]} {0[1]}\".format(value)) \n",
    "\n",
    "  \n",
    "\n",
    "# Format with Dict \n",
    "\n",
    "data1 = {'rahul': 2000, 'sonam': 3000} \n",
    "\n",
    "print(\"{0[rahul]:d} {0[sonam]:d}\".format(data1)) \n",
    "\n",
    "  \n",
    "\n",
    "# Format with Dict \n",
    "\n",
    "data2 = {'rahul': 2000, 'sonam': 3000} \n",
    "\n",
    "print(\"{d[rahul]:d} {d[sonam]:d}\".format(d=data2)) \n",
    "\n",
    "  \n",
    "\n",
    "# Accessing arguments by name: \n",
    "\n",
    "data3 = {'rahul': 2000, 'sonam': 3000} \n",
    "\n",
    "print(\"{rahul} {sonam}\".format(**data3))     \n",
    "\n",
    "  \n",
    "\n",
    "# ** is a format parameter (minimum field width) "
   ]
  },
  {
   "cell_type": "code",
   "execution_count": 10,
   "id": "e1781f75",
   "metadata": {},
   "outputs": [
    {
     "name": "stdout",
     "output_type": "stream",
     "text": [
      "******** Integer ********\n",
      "15\n",
      "15\n",
      "15\n",
      "15\n",
      "   15\n",
      "00015\n",
      "  +15\n",
      "15   \n",
      "15***\n",
      "***15\n",
      " 15  \n",
      "*15**\n"
     ]
    }
   ],
   "source": [
    "# Integer \n",
    "\n",
    "print(\"******** Integer ********\") \n",
    "\n",
    "print(\"{}\".format(15))                          # Printing as string 15 \n",
    "\n",
    "print(\"{:d}\".format(15)) \n",
    "\n",
    "print(\"{0:d}\".format(15)) \n",
    "\n",
    "print(\"{num:d}\".format(num=15)) \n",
    "\n",
    "print(\"{num:5d}\".format(num=15)) \n",
    "\n",
    "print(\"{num:05d}\".format(num=15)) \n",
    "\n",
    "print(\"{num:+5d}\".format(num=15)) \n",
    "\n",
    "print(\"{num:<5d}\".format(num=15))               # Left align \n",
    "\n",
    "print(\"{num:*<5d}\".format(num=15))              # Left align with fill \n",
    "\n",
    "print(\"{num:*>5d}\".format(num=15))              # Right align with fill \n",
    "\n",
    "print(\"{num:^5d}\".format(num=15))               # Center align \n",
    "\n",
    "print(\"{num:*^5d}\".format(num=15))              # Center align with fill "
   ]
  },
  {
   "cell_type": "code",
   "execution_count": 12,
   "id": "f737be88",
   "metadata": {},
   "outputs": [
    {
     "name": "stdout",
     "output_type": "stream",
     "text": [
      "******** Float ********\n",
      "15.65\n",
      "15.650000\n",
      "15.650000\n",
      "15.650000\n",
      "15.650000\n",
      "  15.650\n",
      "  +15.65\n",
      "15.65   \n",
      "15.65***\n",
      "***15.65\n",
      " 15.65  \n",
      "*15.65**\n"
     ]
    }
   ],
   "source": [
    "#Float \n",
    "\n",
    "print(\"******** Float ********\") \n",
    "\n",
    "print(\"{}\".format(15.65))                       # Printing as string 15.65 \n",
    "\n",
    "print(\"{:f}\".format(15.65))                  \n",
    "\n",
    "print(\"{0:f}\".format(15.65)) \n",
    "\n",
    "print(\"{num:f}\".format(num=15.65)) \n",
    "\n",
    "print(\"{num:8f}\".format(num=15.65))             # 15.650000  \n",
    "\n",
    "print(\"{num:8.3f}\".format(num=15.65)) \n",
    "\n",
    "print(\"{num:+8.2f}\".format(num=15.65)) \n",
    "\n",
    "print(\"{num:<8.2f}\".format(num=15.65))          # Left align \n",
    "\n",
    "print(\"{num:*<8.2f}\".format(num=15.65))         # Left align with fill \n",
    "\n",
    "print(\"{num:*>8.2f}\".format(num=15.65))         # Right align with fill \n",
    "\n",
    "print(\"{num:^8.2f}\".format(num=15.65))          # Center align \n",
    "\n",
    "print(\"{num:*^8.2f}\".format(num=15.65))         # Center align with fill"
   ]
  },
  {
   "cell_type": "code",
   "execution_count": 13,
   "id": "9a59b440",
   "metadata": {},
   "outputs": [
    {
     "name": "stdout",
     "output_type": "stream",
     "text": [
      "******** String ********\n",
      "apple   \n",
      "apple   \n",
      "apple***\n",
      "   apple\n",
      "***apple\n",
      " apple  \n",
      "*apple**\n",
      "******** Truncating String ********\n",
      "oja\n",
      "oja     \n",
      "oja*****\n",
      "     oja\n",
      "*****oja\n",
      "  oja   \n",
      "**oja***\n"
     ]
    }
   ],
   "source": [
    "#String \n",
    "\n",
    "print(\"******** String ********\") \n",
    "\n",
    "print(\"{:8s}\".format(\"apple\")) \n",
    "\n",
    "print(\"{:<8}\".format(\"apple\")) \n",
    "\n",
    "print(\"{:*<8}\".format(\"apple\")) \n",
    "\n",
    "print(\"{:>8}\".format(\"apple\")) \n",
    "\n",
    "print(\"{:*>8s}\".format(\"apple\")) \n",
    "\n",
    "print(\"{:^8s}\".format(\"apple\")) \n",
    "\n",
    "print(\"{:*^8s}\".format(\"apple\")) \n",
    "\n",
    "  \n",
    "\n",
    "print(\"******** Truncating String ********\") \n",
    "\n",
    "print(\"{:.3s}\".format(\"ojas\")) \n",
    "\n",
    "print(\"{:8.3s}\".format(\"ojas\")) \n",
    "\n",
    "print(\"{:*<8.3s}\".format(\"ojas\")) \n",
    "\n",
    "print(\"{:>8.3s}\".format(\"ojas\")) \n",
    "\n",
    "print(\"{:*>8.3s}\".format(\"ojas\")) \n",
    "\n",
    "print(\"{:^8.3s}\".format(\"ojas\")) \n",
    "\n",
    "print(\"{:*^8.3s}\".format(\"ojas\")) "
   ]
  },
  {
   "cell_type": "code",
   "execution_count": 14,
   "id": "cdc37fde",
   "metadata": {},
   "outputs": [
    {
     "name": "stdout",
     "output_type": "stream",
     "text": [
      "******** Integer *********\n",
      "10\n",
      "10 20\n",
      "20 10\n"
     ]
    }
   ],
   "source": [
    "# Integer \n",
    "\n",
    "print(\"******** Integer *********\") \n",
    "\n",
    "a = 10 \n",
    "\n",
    "b = 20 \n",
    "\n",
    "print(f\"{a}\")               # empty expression not allowed \n",
    "\n",
    "print(f\"{a} {b}\") \n",
    "\n",
    "print(f\"{b} {a}\") "
   ]
  },
  {
   "cell_type": "code",
   "execution_count": 15,
   "id": "bcc39165",
   "metadata": {},
   "outputs": [
    {
     "name": "stdout",
     "output_type": "stream",
     "text": [
      "******** Float *********\n",
      "10.56\n",
      "10.56 20.42\n",
      "20.42 10.56\n"
     ]
    }
   ],
   "source": [
    "#Float \n",
    "\n",
    "print(\"******** Float *********\") \n",
    "\n",
    "c = 10.56 \n",
    "\n",
    "d = 20.42 \n",
    "\n",
    "print(f\"{c}\") \n",
    "\n",
    "print(f\"{c} {d}\") \n",
    "\n",
    "print(f\"{d} {c}\") "
   ]
  },
  {
   "cell_type": "code",
   "execution_count": 16,
   "id": "e24e0088",
   "metadata": {},
   "outputs": [
    {
     "name": "stdout",
     "output_type": "stream",
     "text": [
      "******** String *********\n",
      "alex\n",
      "alex albert\n",
      "albert alex\n"
     ]
    }
   ],
   "source": [
    "#String \n",
    "\n",
    "print(\"******** String *********\") \n",
    "\n",
    "f_name = \"alex\" \n",
    "\n",
    "l_name = \"albert\" \n",
    "\n",
    "print(f\"{f_name}\") \n",
    "\n",
    "print(f\"{f_name} {l_name}\") \n",
    "\n",
    "print(f\"{l_name} {f_name}\") "
   ]
  },
  {
   "cell_type": "code",
   "execution_count": 17,
   "id": "62808ba4",
   "metadata": {},
   "outputs": [
    {
     "name": "stdout",
     "output_type": "stream",
     "text": [
      "Hello My Name is alex albert\n",
      "alex albert 10\n",
      "10 alex albert\n"
     ]
    }
   ],
   "source": [
    "# Integer and String \n",
    "\n",
    "name = \"alex albert\" \n",
    "\n",
    "age = 10 \n",
    "\n",
    "print(f\"Hello My Name is {name}\") \n",
    "\n",
    "print(f\"{name} {age}\") \n",
    "\n",
    "print(f\"{age} {name}\") "
   ]
  },
  {
   "cell_type": "code",
   "execution_count": 18,
   "id": "5600ed1b",
   "metadata": {},
   "outputs": [
    {
     "name": "stdout",
     "output_type": "stream",
     "text": [
      "******** Integer ********\n",
      "15\n",
      "15\n",
      "   15\n",
      "00015\n",
      "  +15\n",
      "15   \n",
      "15***\n",
      "***15\n",
      " 15  \n",
      "*15**\n"
     ]
    }
   ],
   "source": [
    "#Integer \n",
    "\n",
    "print(\"******** Integer ********\") \n",
    "\n",
    "num = 15 \n",
    "\n",
    "print(f\"{num}\")             # Treated as String becoz no type mention \n",
    "\n",
    "print(f\"{num:d}\") \n",
    "\n",
    "print(f\"{num:5d}\") \n",
    "\n",
    "print(f\"{num:05d}\") \n",
    "\n",
    "print(f\"{num:+5d}\") \n",
    "\n",
    "print(f\"{num:<5d}\")         # Left align \n",
    "\n",
    "print(f\"{num:*<5d}\")        # Left align with fill \n",
    "\n",
    "print(f\"{num:*>5d}\")        # Right align with fill \n",
    "\n",
    "print(f\"{num:^5d}\")         # Center align \n",
    "\n",
    "print(f\"{num:*^5d}\")        # Center align with fill \n"
   ]
  },
  {
   "cell_type": "code",
   "execution_count": 19,
   "id": "165b0bf7",
   "metadata": {},
   "outputs": [
    {
     "name": "stdout",
     "output_type": "stream",
     "text": [
      "******** Float ********\n",
      "15.65\n",
      "15.650000\n",
      "15.650000\n",
      "15.65123456789000044864\n",
      "  15.650\n",
      "  +15.65\n",
      "15.65   \n",
      "15.65***\n",
      "***15.65\n",
      " 15.65  \n",
      "*15.65**\n"
     ]
    }
   ],
   "source": [
    "#Float \n",
    "\n",
    "print(\"******** Float ********\") \n",
    "\n",
    "num = 15.65 \n",
    "\n",
    "price = 15.65123456789 \n",
    "\n",
    "print(f\"{num}\")             # Treated as String becoz no type mention \n",
    "\n",
    "print(f\"{num:f}\") \n",
    "\n",
    "print(f\"{num:8f}\")          # 15.650000  \n",
    "\n",
    "print(f\"{price:.20f}\") \n",
    "\n",
    "print(f\"{num:8.3f}\") \n",
    "\n",
    "print(f\"{num:+8.2f}\") \n",
    "\n",
    "print(f\"{num:<8.2f}\")       # Left align \n",
    "\n",
    "print(f\"{num:*<8.2f}\")      # Left align with fill \n",
    "\n",
    "print(f\"{num:*>8.2f}\")      # Right align with fill \n",
    "\n",
    "print(f\"{num:^8.2f}\")       # Center align \n",
    "\n",
    "print(f\"{num:*^8.2f}\")      # Center align with fill "
   ]
  },
  {
   "cell_type": "code",
   "execution_count": 21,
   "id": "6e2a71a2",
   "metadata": {},
   "outputs": [
    {
     "name": "stdout",
     "output_type": "stream",
     "text": [
      "******** String ********\n",
      "OJAS\n",
      "OJAS\n",
      "OJAS    \n",
      "OJAS    \n",
      "OJAS****\n",
      "    OJAS\n",
      "****OJAS\n",
      "  OJAS  \n",
      "**OJAS**\n"
     ]
    }
   ],
   "source": [
    "#String \n",
    "\n",
    "print(\"******** String ********\") \n",
    "\n",
    "name = \"OJAS\" \n",
    "\n",
    "print(f\"{name}\") \n",
    "\n",
    "print(f\"{name:s}\") \n",
    "\n",
    "print(f\"{name:8s}\") \n",
    "\n",
    "print(f\"{name:<8}\") \n",
    "\n",
    "print(f\"{name:*<8}\") \n",
    "\n",
    "print(f\"{name:>8}\") \n",
    "\n",
    "print(f\"{name:*>8s}\") \n",
    "\n",
    "print(f\"{name:^8s}\") \n",
    "\n",
    "print(f\"{name:*^8s}\") "
   ]
  },
  {
   "cell_type": "code",
   "execution_count": 22,
   "id": "7ef237a1",
   "metadata": {},
   "outputs": [
    {
     "name": "stdout",
     "output_type": "stream",
     "text": [
      "******** Truncating String ********\n",
      "ale\n",
      "ale     \n",
      "ale*****\n",
      "     ale\n",
      "*****ale\n",
      "  ale   \n",
      "**ale***\n"
     ]
    }
   ],
   "source": [
    "print(\"******** Truncating String ********\") \n",
    "\n",
    "name = \"alexalbert\" \n",
    "\n",
    "print(f\"{name:.3s}\") \n",
    "\n",
    "print(f\"{name:8.3s}\") \n",
    "\n",
    "print(f\"{name:*<8.3s}\") \n",
    "\n",
    "print(f\"{name:>8.3s}\") \n",
    "\n",
    "print(f\"{name:*>8.3s}\") \n",
    "\n",
    "print(f\"{name:^8.3s}\") \n",
    "\n",
    "print(f\"{name:*^8.3s}\") "
   ]
  },
  {
   "cell_type": "code",
   "execution_count": 23,
   "id": "a2d80e67",
   "metadata": {},
   "outputs": [
    {
     "name": "stdout",
     "output_type": "stream",
     "text": [
      "1,234,567,890\n",
      "1_234_567_890\n"
     ]
    }
   ],
   "source": [
    "  \n",
    "\n",
    "# Thousand Separator \n",
    "\n",
    "price = 1234567890 \n",
    "\n",
    "print(f\"{price:,}\") \n",
    "\n",
    "print(f\"{price:_}\") "
   ]
  },
  {
   "cell_type": "code",
   "execution_count": 24,
   "id": "494677bb",
   "metadata": {},
   "outputs": [
    {
     "name": "stdout",
     "output_type": "stream",
     "text": [
      "My name is Rahul and age 62\n"
     ]
    }
   ],
   "source": [
    "#Variable \n",
    "\n",
    "name = \"Rahul\" \n",
    "\n",
    "age= 62 \n",
    "\n",
    "print(f\"My name is {name} and age {age}\") "
   ]
  },
  {
   "cell_type": "code",
   "execution_count": 25,
   "id": "1837c16f",
   "metadata": {},
   "outputs": [
    {
     "name": "stdout",
     "output_type": "stream",
     "text": [
      "80\n",
      "1666.67%\n"
     ]
    }
   ],
   "source": [
    "# Expression \n",
    "\n",
    "print(f\"{10*8}\") \n",
    "\n",
    "  \n",
    "\n",
    "# Expressing a Percentage \n",
    "\n",
    "a = 50 \n",
    "\n",
    "b = 3 \n",
    "\n",
    "print(f\"{a/b:.2%}\") "
   ]
  },
  {
   "cell_type": "code",
   "execution_count": 27,
   "id": "91dac129",
   "metadata": {},
   "outputs": [
    {
     "name": "stdout",
     "output_type": "stream",
     "text": [
      "10 20\n",
      "2000 3000\n",
      "alexalbert\n",
      "ALEXALBERT\n",
      "10\n",
      "{10}\n"
     ]
    }
   ],
   "source": [
    "# Accessing arguments� items \n",
    "\n",
    "value = (10, 20) \n",
    "\n",
    "print(f\"{value[0]} {value[1]}\") \n",
    "\n",
    "  \n",
    "\n",
    "# Format with Dict \n",
    "\n",
    "data = {'rahul': 2000, 'sonam': 3000} \n",
    "\n",
    "print(f\"{data['rahul']:d} {data['sonam']:d}\") \n",
    "\n",
    "#Calling Function \n",
    "\n",
    "name= \"alexalbert\" \n",
    "\n",
    "print(f\"{name}\") \n",
    "\n",
    "print(f\"{name.upper()}\") \n",
    "\n",
    "  \n",
    "\n",
    "# Using object created from class \n",
    "\n",
    "#print(f\"{obj.name}\") \n",
    "\n",
    "  \n",
    "\n",
    "# Curly Braces \n",
    "\n",
    "print(f\"{10}\") \n",
    "\n",
    "print(f\"{{10}}\") "
   ]
  },
  {
   "cell_type": "code",
   "execution_count": 28,
   "id": "b56a292a",
   "metadata": {},
   "outputs": [
    {
     "name": "stdout",
     "output_type": "stream",
     "text": [
      "2019-10-05 00:00:00\n",
      "05-Oct-2019\n",
      "05/Oct/2019\n",
      "Oct/05/2019\n"
     ]
    }
   ],
   "source": [
    "# Date and Time \n",
    "\n",
    "from datetime import datetime \n",
    "\n",
    "today = datetime(2019, 10, 5) \n",
    "\n",
    "print(f\"{today}\") \n",
    "\n",
    "print(f\"{today:%d-%b-%Y}\") \n",
    "\n",
    "print(f\"{today:%d/%b/%Y}\") \n",
    "\n",
    "print(f\"{today:%b/%d/%Y}\") "
   ]
  },
  {
   "cell_type": "code",
   "execution_count": 30,
   "id": "a12e1a70",
   "metadata": {},
   "outputs": [
    {
     "name": "stdout",
     "output_type": "stream",
     "text": [
      "432\n",
      "432 345\n",
      "432.123000\n",
      "432.123000 10.300000\n",
      "432.123456\n",
      "432.123457\n",
      "ShubhamMitkary\n",
      "Hello ShubhamMitkary\n",
      "432 ShubhamMitkary\n",
      "ShubhamMitkary 432\n"
     ]
    }
   ],
   "source": [
    "print(\"%d\" % 432)    \n",
    "\n",
    "print(\"%d %d\" % (432, 345)) \n",
    "\n",
    "print(\"%f\" %432.123) \n",
    "\n",
    "print(\"%f %f\" %(432.123, 10.3))  \n",
    "\n",
    "print(\"%f\" %432.123456) \n",
    "\n",
    "print(\"%f\" %432.12345651) \n",
    "\n",
    "print(\"%s\" % \"ShubhamMitkary\") \n",
    "\n",
    "print(\"%s %s\" % (\"Hello\", \"ShubhamMitkary\")) \n",
    "\n",
    "print(\"%d %s\" % (432, \"ShubhamMitkary\")) \n",
    "\n",
    "#print(\"%s %d\" % (432, \"alexalbert\"))       TypeError \n",
    "\n",
    "print(\"%(nm)s %(ag)d\" % {'ag':432, 'nm':\"ShubhamMitkary\"}) "
   ]
  },
  {
   "cell_type": "code",
   "execution_count": 31,
   "id": "238ac5f4",
   "metadata": {},
   "outputs": [
    {
     "name": "stdout",
     "output_type": "stream",
     "text": [
      " 432\n",
      " 432\n",
      "+432\n",
      "     432\n",
      "00000432\n",
      "432.123\n",
      "432.12\n",
      "432.13\n",
      "   432.13\n",
      "000432.12\n",
      "4388453232.12\n"
     ]
    }
   ],
   "source": [
    "print(\"% d\" % 432) \n",
    "print(\"%          d\" % 432) \n",
    "print(\"%+d\" % 432) \n",
    "print(\"%8d\" % 432) \n",
    "\n",
    "print(\"%08d\" % 432) \n",
    "\n",
    "print(\"%.3f\" %432.123) \n",
    "\n",
    "print(\"%.2f\" %432.123) \n",
    "\n",
    "print(\"%.2f\" %432.128) \n",
    "\n",
    "print(\"%9.2f\" %432.128) \n",
    "\n",
    "print(\"%09.2f\" %432.123) \n",
    "\n",
    "print(\"%9.2f\" %4388453232.124) "
   ]
  },
  {
   "cell_type": "code",
   "execution_count": null,
   "id": "b308c5a1",
   "metadata": {},
   "outputs": [],
   "source": [
    "                                    "
   ]
  }
 ],
 "metadata": {
  "kernelspec": {
   "display_name": "Python 3 (ipykernel)",
   "language": "python",
   "name": "python3"
  },
  "language_info": {
   "codemirror_mode": {
    "name": "ipython",
    "version": 3
   },
   "file_extension": ".py",
   "mimetype": "text/x-python",
   "name": "python",
   "nbconvert_exporter": "python",
   "pygments_lexer": "ipython3",
   "version": "3.9.12"
  }
 },
 "nbformat": 4,
 "nbformat_minor": 5
}
