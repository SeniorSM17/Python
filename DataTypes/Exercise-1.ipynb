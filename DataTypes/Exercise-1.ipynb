{
 "cells": [
  {
   "cell_type": "markdown",
   "id": "0eec866f",
   "metadata": {},
   "source": [
    "1.WAP to find the senior citizens in the given list,list values should take dynamicaly (or) from the user only.\n",
    "suppose list=[23,67,45,89,65,12,15,19], and output:[65,67,89] final list should be in accending order.\n",
    "person age is 60 (or) more than 60 belongs to senior citizens.?"
   ]
  },
  {
   "cell_type": "code",
   "execution_count": 1,
   "id": "5ecf02a2",
   "metadata": {},
   "outputs": [
    {
     "name": "stdout",
     "output_type": "stream",
     "text": [
      "Enter the age of persons10 20 30 40 50 60 70 80 99 10 99 101\n",
      "[60, 70, 80, 99, 99, 101]\n"
     ]
    }
   ],
   "source": [
    "age=list(map(int,input(\"Enter the age of persons\").split()))\n",
    "senior_citizen=[]\n",
    "for i in age:\n",
    "    if i >=60:\n",
    "        senior_citizen.append(i)\n",
    "senior_citizen.sort()\n",
    "print(senior_citizen)"
   ]
  },
  {
   "cell_type": "raw",
   "id": "f242dcb8",
   "metadata": {},
   "source": [
    "#2. WAP to find the diagonal matrix absolute difference?\n",
    "# suppose  1   2  3\n",
    "#          7   9  3\n",
    "#         12   5  67\n",
    "#result:=>53"
   ]
  },
  {
   "cell_type": "code",
   "execution_count": 6,
   "id": "6b20b7eb",
   "metadata": {},
   "outputs": [
    {
     "name": "stdout",
     "output_type": "stream",
     "text": [
      "3\n",
      "1 2 3\n",
      "7 9 3\n",
      "12 5 67\n"
     ]
    }
   ],
   "source": [
    "n = int(input().strip())\n",
    "arr = []\n",
    "for _ in range(n):\n",
    "    arr.append(list(map(int, input().rstrip().split())))\n"
   ]
  },
  {
   "cell_type": "code",
   "execution_count": 7,
   "id": "a942b2d0",
   "metadata": {},
   "outputs": [],
   "source": [
    "temp = 0\n",
    "emp = 0\n",
    "for i in range(0,len(arr)):\n",
    "    temp = temp + arr[i][i]\n",
    "for j in range(0,len(arr)):\n",
    "    emp = emp + arr[j][len(arr)-1-j]"
   ]
  },
  {
   "cell_type": "code",
   "execution_count": 8,
   "id": "9ad97e15",
   "metadata": {},
   "outputs": [
    {
     "name": "stdout",
     "output_type": "stream",
     "text": [
      "53\n"
     ]
    }
   ],
   "source": [
    "print(abs(temp-emp))"
   ]
  },
  {
   "cell_type": "markdown",
   "id": "8ba0a4c1",
   "metadata": {},
   "source": [
    "#3. WAP to solve this pattern\n",
    "\"\"\"  A\n",
    "     A B\n",
    "     A B C\n",
    "     A B C D\n",
    "     A B C D E\n",
    "      \"\"\"\""
   ]
  },
  {
   "cell_type": "code",
   "execution_count": 10,
   "id": "283ad511",
   "metadata": {},
   "outputs": [
    {
     "name": "stdout",
     "output_type": "stream",
     "text": [
      "5\n",
      "A \n",
      "A B \n",
      "A B C \n",
      "A B C D \n",
      "A B C D E \n"
     ]
    }
   ],
   "source": [
    "n=int(input())\n",
    "k=65\n",
    "for i in range(k,n+k):\n",
    "    for j in range(k,i+1):\n",
    "        print(chr(j),end=\" \")\n",
    "    print()\n",
    "    "
   ]
  },
  {
   "cell_type": "code",
   "execution_count": null,
   "id": "0423836d",
   "metadata": {},
   "outputs": [],
   "source": []
  }
 ],
 "metadata": {
  "kernelspec": {
   "display_name": "Python 3 (ipykernel)",
   "language": "python",
   "name": "python3"
  },
  "language_info": {
   "codemirror_mode": {
    "name": "ipython",
    "version": 3
   },
   "file_extension": ".py",
   "mimetype": "text/x-python",
   "name": "python",
   "nbconvert_exporter": "python",
   "pygments_lexer": "ipython3",
   "version": "3.9.12"
  }
 },
 "nbformat": 4,
 "nbformat_minor": 5
}
